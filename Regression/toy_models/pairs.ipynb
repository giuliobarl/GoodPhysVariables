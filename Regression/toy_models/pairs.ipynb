{
 "cells": [
  {
   "cell_type": "markdown",
   "id": "b7a0292e",
   "metadata": {},
   "source": [
    "# Toy dataset with a single invariant couple (x, y)\n",
    "Function: $f(x_1,x_2,x_3,x_4,x_5) = \\sin \\left(\\log(x_1^4 \\cdot x_2^3) \\right) + \\cos(5 \\cdot x_3) + \\sqrt{\\frac{x_4^3 \\cdot x_5^2}{x_1^4 \\cdot x_2^3}}$\n",
    "\n",
    "True invariant combination:\n",
    "- $u = x_1^4 \\cdot x_2^3$  (normalized exponents $\\alpha=0.8, \\, \\beta=0.6$)\n",
    "- $v = x_4^3 \\cdot x_5^2$ (normalized exponents $\\alpha=0.832, \\, \\beta=0.555$)"
   ]
  },
  {
   "cell_type": "code",
   "execution_count": 1,
   "id": "3c9888b2",
   "metadata": {},
   "outputs": [],
   "source": [
    "%load_ext autoreload\n",
    "%autoreload 2\n",
    "\n",
    "import matplotlib.pyplot as plt\n",
    "import numpy as np\n",
    "import pandas as pd\n",
    "import warnings\n",
    "\n",
    "import sys, os\n",
    "sys.path.append(os.path.abspath(os.path.join(os.getcwd(), \"../..\")))\n",
    "from Regression.dataset import InvarianceDataset\n",
    "from Regression.model import InvarianceModel\n",
    "from Regression.detector import InvarianceDetector\n",
    "\n",
    "warnings.filterwarnings(\"ignore\", category=DeprecationWarning)"
   ]
  },
  {
   "cell_type": "markdown",
   "id": "9c167556",
   "metadata": {},
   "source": [
    "## Creates a noisy dataset and saves it."
   ]
  },
  {
   "cell_type": "code",
   "execution_count": 2,
   "id": "be575c67",
   "metadata": {},
   "outputs": [],
   "source": [
    "# reproducibility\n",
    "np.random.seed(0)\n",
    "\n",
    "def f_fun(x_1, x_2, x_3, x_4, x_5):\n",
    "    return np.sin(np.log(x_1**4 * x_2**3)) + np.cos(5*x_3) + np.sqrt((x_4**3 * x_5**2)/(x_1**4 * x_2**3))"
   ]
  },
  {
   "cell_type": "code",
   "execution_count": 3,
   "id": "4b2175b2",
   "metadata": {},
   "outputs": [],
   "source": [
    "# sampling\n",
    "N = 8000\n",
    "x = np.random.uniform(1.0, 2.0, size=N)\n",
    "y = np.random.uniform(0.5, 1.0, size=N)\n",
    "z = np.random.uniform(2.0, 5.0, size=N)\n",
    "w = np.random.uniform(3.0, 7.0, size=N)\n",
    "q = np.random.uniform(1.0, 3.0, size=N)\n",
    "\n",
    "# noiseless target\n",
    "f_clean = f_fun(x, y, z, w, q)"
   ]
  },
  {
   "cell_type": "code",
   "execution_count": 4,
   "id": "34d83796",
   "metadata": {},
   "outputs": [],
   "source": [
    "# add additive Gaussian noise scaled to a fraction of the std of f\n",
    "noise_frac = 0.05   # 10% of std(f)\n",
    "noise = np.random.normal(0.00, noise_frac * np.std(f_clean), size=N)\n",
    "f_noisy = f_clean + noise"
   ]
  },
  {
   "cell_type": "code",
   "execution_count": 5,
   "id": "7d5b5baf",
   "metadata": {},
   "outputs": [
    {
     "name": "stdout",
     "output_type": "stream",
     "text": [
      "Dataset has N = 8000, noise_frac = 0.05 (i.e. 5.0% of std(f)).\n"
     ]
    }
   ],
   "source": [
    "# build dataframe and include the true invariant for diagnostics\n",
    "df = pd.DataFrame({\n",
    "    \"x\": x,\n",
    "    \"y\": y,\n",
    "    \"z\": z,\n",
    "    \"w\": w,\n",
    "    \"q\": q,\n",
    "    \"f\": f_noisy\n",
    "})\n",
    "\n",
    "print(f\"Dataset has N = {N}, noise_frac = {noise_frac} (i.e. {noise_frac*100:.1f}% of std(f)).\")"
   ]
  },
  {
   "cell_type": "markdown",
   "id": "8caaa66c",
   "metadata": {},
   "source": [
    "### Save dataset if first time creating it"
   ]
  },
  {
   "cell_type": "code",
   "execution_count": 6,
   "id": "e3ea8721",
   "metadata": {},
   "outputs": [],
   "source": [
    "dataset = InvarianceDataset(df, \"f\")"
   ]
  },
  {
   "cell_type": "code",
   "execution_count": 7,
   "id": "06dbcfd3",
   "metadata": {},
   "outputs": [],
   "source": [
    "# save files for use in notebooks / examples\n",
    "csv_path = \"../../Data/toy_couples_dataset.csv\"\n",
    "xlsx_path = \"../../Data/toy_couples_dataset.xlsx\"\n",
    "try:\n",
    "    dataset.to_excel(xlsx_path)\n",
    "except Exception:   \n",
    "    # openpyxl might not be installed in some environments — ignore if save to excel fails\n",
    "    xlsx_path = None\n",
    "    dataset.to_csv(csv_path)"
   ]
  },
  {
   "cell_type": "markdown",
   "id": "5f5964b8",
   "metadata": {},
   "source": [
    "### Read dataset if already saved"
   ]
  },
  {
   "cell_type": "code",
   "execution_count": 8,
   "id": "20f33433",
   "metadata": {},
   "outputs": [],
   "source": [
    "csv_path = \"../../Data/toy_couples_dataset.csv\"\n",
    "xlsx_path = \"../../Data/toy_couples_dataset.xlsx\"\n",
    "try:\n",
    "    dataset = InvarianceDataset.from_excel(xlsx_path, 'f')\n",
    "except Exception:   \n",
    "    # openpyxl might not be installed in some environments — ignore if save to excel fails\n",
    "    xlsx_path = None\n",
    "    dataset = InvarianceDataset.from_csv(csv_path, 'f')"
   ]
  },
  {
   "cell_type": "code",
   "execution_count": 9,
   "id": "793ecb18",
   "metadata": {},
   "outputs": [
    {
     "name": "stdout",
     "output_type": "stream",
     "text": [
      "\n",
      "DataFrame summary (first 5 rows):\n",
      "\n",
      "          x         y         z         w         q          f\n",
      "0  1.548814  0.728880  3.186612  3.612785  1.732364   6.863278\n",
      "1  1.715189  0.688459  4.532052  3.131246  1.701277   5.301704\n",
      "2  1.602763  0.851168  2.451325  3.915181  1.804735   8.287207\n",
      "3  1.544883  0.603662  2.918928  4.996986  1.765485  17.367295\n",
      "4  1.423655  0.537140  2.283711  4.181557  2.209320  23.504853\n",
      "\n",
      "Descriptive statistics:\n",
      "\n",
      "                 x            y            z            w            q  \\\n",
      "count  8000.000000  8000.000000  8000.000000  8000.000000  8000.000000   \n",
      "mean      1.495549     0.746348     3.502402     4.999200     1.998878   \n",
      "std       0.289739     0.144385     0.878310     1.155851     0.573551   \n",
      "min       1.000072     0.500083     2.000692     3.001380     1.000750   \n",
      "25%       1.244534     0.622234     2.734352     3.988040     1.501738   \n",
      "50%       1.492803     0.744100     3.512538     5.012222     1.996113   \n",
      "75%       1.747077     0.872502     4.271929     5.995204     2.496773   \n",
      "max       1.999964     0.999989     4.999566     6.999675     2.999436   \n",
      "\n",
      "                 f  \n",
      "count  8000.000000  \n",
      "mean     19.588366  \n",
      "std      13.817297  \n",
      "min       1.369288  \n",
      "25%      10.128905  \n",
      "50%      15.697375  \n",
      "75%      24.748258  \n",
      "max     113.330072  \n"
     ]
    }
   ],
   "source": [
    "# show a quick summary and the head of the dataframe\n",
    "print(\"\\nDataFrame summary (first 5 rows):\\n\")\n",
    "print(dataset.head())\n",
    "\n",
    "# show descriptive statistics\n",
    "print(\"\\nDescriptive statistics:\\n\")\n",
    "print(dataset.summary())"
   ]
  },
  {
   "cell_type": "markdown",
   "id": "541b314f",
   "metadata": {},
   "source": [
    "## DNN model"
   ]
  },
  {
   "cell_type": "code",
   "execution_count": 10,
   "id": "f1afbde9",
   "metadata": {},
   "outputs": [],
   "source": [
    "X_train, X_test, y_train, y_test = dataset.train_test_split()"
   ]
  },
  {
   "cell_type": "code",
   "execution_count": 11,
   "id": "fcb66098",
   "metadata": {},
   "outputs": [],
   "source": [
    "# Initialize the DNN model\n",
    "model = InvarianceModel(input_dim=5)"
   ]
  },
  {
   "cell_type": "code",
   "execution_count": 12,
   "id": "76c1f5d7",
   "metadata": {},
   "outputs": [],
   "source": [
    "# Build and compile the DNN model\n",
    "model.build_and_compile(X_train)"
   ]
  },
  {
   "cell_type": "markdown",
   "id": "fc2057da",
   "metadata": {},
   "source": [
    "### Train the model if not saved already"
   ]
  },
  {
   "cell_type": "code",
   "execution_count": 13,
   "id": "08b73211",
   "metadata": {},
   "outputs": [
    {
     "name": "stdout",
     "output_type": "stream",
     "text": [
      "Epoch 1/200\n",
      "\u001b[1m181/181\u001b[0m \u001b[32m━━━━━━━━━━━━━━━━━━━━\u001b[0m\u001b[37m\u001b[0m \u001b[1m2s\u001b[0m 4ms/step - loss: 10.1433 - val_loss: 2.6707\n",
      "Epoch 2/200\n",
      "\u001b[1m181/181\u001b[0m \u001b[32m━━━━━━━━━━━━━━━━━━━━\u001b[0m\u001b[37m\u001b[0m \u001b[1m1s\u001b[0m 3ms/step - loss: 2.3328 - val_loss: 2.0793\n",
      "Epoch 3/200\n",
      "\u001b[1m181/181\u001b[0m \u001b[32m━━━━━━━━━━━━━━━━━━━━\u001b[0m\u001b[37m\u001b[0m \u001b[1m1s\u001b[0m 3ms/step - loss: 1.9273 - val_loss: 1.7381\n",
      "Epoch 4/200\n",
      "\u001b[1m181/181\u001b[0m \u001b[32m━━━━━━━━━━━━━━━━━━━━\u001b[0m\u001b[37m\u001b[0m \u001b[1m1s\u001b[0m 3ms/step - loss: 1.6122 - val_loss: 1.4687\n",
      "Epoch 5/200\n",
      "\u001b[1m181/181\u001b[0m \u001b[32m━━━━━━━━━━━━━━━━━━━━\u001b[0m\u001b[37m\u001b[0m \u001b[1m1s\u001b[0m 4ms/step - loss: 1.3743 - val_loss: 1.3134\n",
      "Epoch 6/200\n",
      "\u001b[1m181/181\u001b[0m \u001b[32m━━━━━━━━━━━━━━━━━━━━\u001b[0m\u001b[37m\u001b[0m \u001b[1m1s\u001b[0m 3ms/step - loss: 1.2028 - val_loss: 1.1904\n",
      "Epoch 7/200\n",
      "\u001b[1m181/181\u001b[0m \u001b[32m━━━━━━━━━━━━━━━━━━━━\u001b[0m\u001b[37m\u001b[0m \u001b[1m1s\u001b[0m 4ms/step - loss: 1.1106 - val_loss: 1.0750\n",
      "Epoch 8/200\n",
      "\u001b[1m181/181\u001b[0m \u001b[32m━━━━━━━━━━━━━━━━━━━━\u001b[0m\u001b[37m\u001b[0m \u001b[1m1s\u001b[0m 4ms/step - loss: 1.0686 - val_loss: 1.0724\n",
      "Epoch 9/200\n",
      "\u001b[1m181/181\u001b[0m \u001b[32m━━━━━━━━━━━━━━━━━━━━\u001b[0m\u001b[37m\u001b[0m \u001b[1m1s\u001b[0m 3ms/step - loss: 1.0353 - val_loss: 0.9988\n",
      "Epoch 10/200\n",
      "\u001b[1m181/181\u001b[0m \u001b[32m━━━━━━━━━━━━━━━━━━━━\u001b[0m\u001b[37m\u001b[0m \u001b[1m1s\u001b[0m 4ms/step - loss: 1.0039 - val_loss: 0.9695\n",
      "Epoch 11/200\n",
      "\u001b[1m181/181\u001b[0m \u001b[32m━━━━━━━━━━━━━━━━━━━━\u001b[0m\u001b[37m\u001b[0m \u001b[1m1s\u001b[0m 4ms/step - loss: 0.9681 - val_loss: 0.9488\n",
      "Epoch 12/200\n",
      "\u001b[1m181/181\u001b[0m \u001b[32m━━━━━━━━━━━━━━━━━━━━\u001b[0m\u001b[37m\u001b[0m \u001b[1m1s\u001b[0m 3ms/step - loss: 0.9540 - val_loss: 0.9600\n",
      "Epoch 13/200\n",
      "\u001b[1m181/181\u001b[0m \u001b[32m━━━━━━━━━━━━━━━━━━━━\u001b[0m\u001b[37m\u001b[0m \u001b[1m1s\u001b[0m 3ms/step - loss: 0.9430 - val_loss: 0.9341\n",
      "Epoch 14/200\n",
      "\u001b[1m181/181\u001b[0m \u001b[32m━━━━━━━━━━━━━━━━━━━━\u001b[0m\u001b[37m\u001b[0m \u001b[1m1s\u001b[0m 4ms/step - loss: 0.9387 - val_loss: 0.9227\n",
      "Epoch 15/200\n",
      "\u001b[1m181/181\u001b[0m \u001b[32m━━━━━━━━━━━━━━━━━━━━\u001b[0m\u001b[37m\u001b[0m \u001b[1m1s\u001b[0m 4ms/step - loss: 0.9196 - val_loss: 1.0033\n",
      "Epoch 16/200\n",
      "\u001b[1m181/181\u001b[0m \u001b[32m━━━━━━━━━━━━━━━━━━━━\u001b[0m\u001b[37m\u001b[0m \u001b[1m1s\u001b[0m 3ms/step - loss: 0.9149 - val_loss: 0.9262\n",
      "Epoch 17/200\n",
      "\u001b[1m181/181\u001b[0m \u001b[32m━━━━━━━━━━━━━━━━━━━━\u001b[0m\u001b[37m\u001b[0m \u001b[1m1s\u001b[0m 3ms/step - loss: 0.8959 - val_loss: 0.8971\n",
      "Epoch 18/200\n",
      "\u001b[1m181/181\u001b[0m \u001b[32m━━━━━━━━━━━━━━━━━━━━\u001b[0m\u001b[37m\u001b[0m \u001b[1m1s\u001b[0m 3ms/step - loss: 0.9077 - val_loss: 0.9168\n",
      "Epoch 19/200\n",
      "\u001b[1m181/181\u001b[0m \u001b[32m━━━━━━━━━━━━━━━━━━━━\u001b[0m\u001b[37m\u001b[0m \u001b[1m1s\u001b[0m 3ms/step - loss: 0.8920 - val_loss: 0.8908\n",
      "Epoch 20/200\n",
      "\u001b[1m181/181\u001b[0m \u001b[32m━━━━━━━━━━━━━━━━━━━━\u001b[0m\u001b[37m\u001b[0m \u001b[1m1s\u001b[0m 3ms/step - loss: 0.8887 - val_loss: 0.9557\n",
      "Epoch 21/200\n",
      "\u001b[1m181/181\u001b[0m \u001b[32m━━━━━━━━━━━━━━━━━━━━\u001b[0m\u001b[37m\u001b[0m \u001b[1m1s\u001b[0m 3ms/step - loss: 0.8766 - val_loss: 0.8746\n",
      "Epoch 22/200\n",
      "\u001b[1m181/181\u001b[0m \u001b[32m━━━━━━━━━━━━━━━━━━━━\u001b[0m\u001b[37m\u001b[0m \u001b[1m1s\u001b[0m 3ms/step - loss: 0.8902 - val_loss: 0.8849\n",
      "Epoch 23/200\n",
      "\u001b[1m181/181\u001b[0m \u001b[32m━━━━━━━━━━━━━━━━━━━━\u001b[0m\u001b[37m\u001b[0m \u001b[1m1s\u001b[0m 3ms/step - loss: 0.8749 - val_loss: 0.9000\n",
      "Epoch 24/200\n",
      "\u001b[1m181/181\u001b[0m \u001b[32m━━━━━━━━━━━━━━━━━━━━\u001b[0m\u001b[37m\u001b[0m \u001b[1m1s\u001b[0m 3ms/step - loss: 0.8707 - val_loss: 0.9156\n",
      "Epoch 25/200\n",
      "\u001b[1m181/181\u001b[0m \u001b[32m━━━━━━━━━━━━━━━━━━━━\u001b[0m\u001b[37m\u001b[0m \u001b[1m1s\u001b[0m 3ms/step - loss: 0.8665 - val_loss: 0.8617\n",
      "Epoch 26/200\n",
      "\u001b[1m181/181\u001b[0m \u001b[32m━━━━━━━━━━━━━━━━━━━━\u001b[0m\u001b[37m\u001b[0m \u001b[1m1s\u001b[0m 3ms/step - loss: 0.8552 - val_loss: 0.8919\n",
      "Epoch 27/200\n",
      "\u001b[1m181/181\u001b[0m \u001b[32m━━━━━━━━━━━━━━━━━━━━\u001b[0m\u001b[37m\u001b[0m \u001b[1m1s\u001b[0m 3ms/step - loss: 0.8507 - val_loss: 0.8913\n",
      "Epoch 28/200\n",
      "\u001b[1m181/181\u001b[0m \u001b[32m━━━━━━━━━━━━━━━━━━━━\u001b[0m\u001b[37m\u001b[0m \u001b[1m1s\u001b[0m 3ms/step - loss: 0.8680 - val_loss: 0.8970\n",
      "Epoch 29/200\n",
      "\u001b[1m181/181\u001b[0m \u001b[32m━━━━━━━━━━━━━━━━━━━━\u001b[0m\u001b[37m\u001b[0m \u001b[1m1s\u001b[0m 3ms/step - loss: 0.8557 - val_loss: 0.8657\n",
      "Epoch 30/200\n",
      "\u001b[1m181/181\u001b[0m \u001b[32m━━━━━━━━━━━━━━━━━━━━\u001b[0m\u001b[37m\u001b[0m \u001b[1m0s\u001b[0m 3ms/step - loss: 0.8518 - val_loss: 0.9091\n",
      "Epoch 31/200\n",
      "\u001b[1m181/181\u001b[0m \u001b[32m━━━━━━━━━━━━━━━━━━━━\u001b[0m\u001b[37m\u001b[0m \u001b[1m1s\u001b[0m 3ms/step - loss: 0.8540 - val_loss: 0.8627\n",
      "Epoch 32/200\n",
      "\u001b[1m181/181\u001b[0m \u001b[32m━━━━━━━━━━━━━━━━━━━━\u001b[0m\u001b[37m\u001b[0m \u001b[1m1s\u001b[0m 3ms/step - loss: 0.8437 - val_loss: 0.8712\n",
      "Epoch 33/200\n",
      "\u001b[1m181/181\u001b[0m \u001b[32m━━━━━━━━━━━━━━━━━━━━\u001b[0m\u001b[37m\u001b[0m \u001b[1m1s\u001b[0m 3ms/step - loss: 0.8404 - val_loss: 0.8944\n",
      "Epoch 34/200\n",
      "\u001b[1m181/181\u001b[0m \u001b[32m━━━━━━━━━━━━━━━━━━━━\u001b[0m\u001b[37m\u001b[0m \u001b[1m1s\u001b[0m 3ms/step - loss: 0.8402 - val_loss: 0.8642\n",
      "Epoch 35/200\n",
      "\u001b[1m181/181\u001b[0m \u001b[32m━━━━━━━━━━━━━━━━━━━━\u001b[0m\u001b[37m\u001b[0m \u001b[1m1s\u001b[0m 3ms/step - loss: 0.8498 - val_loss: 0.8889\n",
      "Epoch 36/200\n",
      "\u001b[1m181/181\u001b[0m \u001b[32m━━━━━━━━━━━━━━━━━━━━\u001b[0m\u001b[37m\u001b[0m \u001b[1m1s\u001b[0m 3ms/step - loss: 0.8399 - val_loss: 0.9053\n",
      "Epoch 37/200\n",
      "\u001b[1m181/181\u001b[0m \u001b[32m━━━━━━━━━━━━━━━━━━━━\u001b[0m\u001b[37m\u001b[0m \u001b[1m1s\u001b[0m 3ms/step - loss: 0.8297 - val_loss: 0.8436\n",
      "Epoch 38/200\n",
      "\u001b[1m181/181\u001b[0m \u001b[32m━━━━━━━━━━━━━━━━━━━━\u001b[0m\u001b[37m\u001b[0m \u001b[1m1s\u001b[0m 3ms/step - loss: 0.8287 - val_loss: 0.9387\n",
      "Epoch 39/200\n",
      "\u001b[1m181/181\u001b[0m \u001b[32m━━━━━━━━━━━━━━━━━━━━\u001b[0m\u001b[37m\u001b[0m \u001b[1m1s\u001b[0m 3ms/step - loss: 0.8340 - val_loss: 0.9253\n",
      "Epoch 40/200\n",
      "\u001b[1m181/181\u001b[0m \u001b[32m━━━━━━━━━━━━━━━━━━━━\u001b[0m\u001b[37m\u001b[0m \u001b[1m1s\u001b[0m 3ms/step - loss: 0.8286 - val_loss: 0.8613\n",
      "Epoch 41/200\n",
      "\u001b[1m181/181\u001b[0m \u001b[32m━━━━━━━━━━━━━━━━━━━━\u001b[0m\u001b[37m\u001b[0m \u001b[1m1s\u001b[0m 3ms/step - loss: 0.8239 - val_loss: 1.0771\n",
      "Epoch 42/200\n",
      "\u001b[1m181/181\u001b[0m \u001b[32m━━━━━━━━━━━━━━━━━━━━\u001b[0m\u001b[37m\u001b[0m \u001b[1m1s\u001b[0m 3ms/step - loss: 0.8367 - val_loss: 0.8398\n",
      "Epoch 43/200\n",
      "\u001b[1m181/181\u001b[0m \u001b[32m━━━━━━━━━━━━━━━━━━━━\u001b[0m\u001b[37m\u001b[0m \u001b[1m1s\u001b[0m 4ms/step - loss: 0.8234 - val_loss: 0.8976\n",
      "Epoch 44/200\n",
      "\u001b[1m181/181\u001b[0m \u001b[32m━━━━━━━━━━━━━━━━━━━━\u001b[0m\u001b[37m\u001b[0m \u001b[1m1s\u001b[0m 4ms/step - loss: 0.8255 - val_loss: 0.8507\n",
      "Epoch 45/200\n",
      "\u001b[1m181/181\u001b[0m \u001b[32m━━━━━━━━━━━━━━━━━━━━\u001b[0m\u001b[37m\u001b[0m \u001b[1m1s\u001b[0m 3ms/step - loss: 0.8301 - val_loss: 0.8802\n",
      "Epoch 46/200\n",
      "\u001b[1m181/181\u001b[0m \u001b[32m━━━━━━━━━━━━━━━━━━━━\u001b[0m\u001b[37m\u001b[0m \u001b[1m1s\u001b[0m 3ms/step - loss: 0.8232 - val_loss: 0.8484\n",
      "Epoch 47/200\n",
      "\u001b[1m181/181\u001b[0m \u001b[32m━━━━━━━━━━━━━━━━━━━━\u001b[0m\u001b[37m\u001b[0m \u001b[1m1s\u001b[0m 3ms/step - loss: 0.8208 - val_loss: 0.8564\n",
      "Epoch 48/200\n",
      "\u001b[1m181/181\u001b[0m \u001b[32m━━━━━━━━━━━━━━━━━━━━\u001b[0m\u001b[37m\u001b[0m \u001b[1m1s\u001b[0m 3ms/step - loss: 0.8243 - val_loss: 0.8560\n",
      "Epoch 49/200\n",
      "\u001b[1m181/181\u001b[0m \u001b[32m━━━━━━━━━━━━━━━━━━━━\u001b[0m\u001b[37m\u001b[0m \u001b[1m1s\u001b[0m 3ms/step - loss: 0.8149 - val_loss: 0.9293\n",
      "Epoch 50/200\n",
      "\u001b[1m181/181\u001b[0m \u001b[32m━━━━━━━━━━━━━━━━━━━━\u001b[0m\u001b[37m\u001b[0m \u001b[1m1s\u001b[0m 3ms/step - loss: 0.8275 - val_loss: 0.8421\n",
      "Epoch 51/200\n",
      "\u001b[1m181/181\u001b[0m \u001b[32m━━━━━━━━━━━━━━━━━━━━\u001b[0m\u001b[37m\u001b[0m \u001b[1m1s\u001b[0m 3ms/step - loss: 0.8250 - val_loss: 0.8459\n",
      "Epoch 52/200\n",
      "\u001b[1m181/181\u001b[0m \u001b[32m━━━━━━━━━━━━━━━━━━━━\u001b[0m\u001b[37m\u001b[0m \u001b[1m1s\u001b[0m 4ms/step - loss: 0.8197 - val_loss: 0.8382\n",
      "Epoch 53/200\n",
      "\u001b[1m181/181\u001b[0m \u001b[32m━━━━━━━━━━━━━━━━━━━━\u001b[0m\u001b[37m\u001b[0m \u001b[1m1s\u001b[0m 3ms/step - loss: 0.8027 - val_loss: 0.8466\n",
      "Epoch 54/200\n",
      "\u001b[1m181/181\u001b[0m \u001b[32m━━━━━━━━━━━━━━━━━━━━\u001b[0m\u001b[37m\u001b[0m \u001b[1m1s\u001b[0m 3ms/step - loss: 0.8067 - val_loss: 0.8746\n",
      "Epoch 55/200\n",
      "\u001b[1m181/181\u001b[0m \u001b[32m━━━━━━━━━━━━━━━━━━━━\u001b[0m\u001b[37m\u001b[0m \u001b[1m1s\u001b[0m 3ms/step - loss: 0.8150 - val_loss: 0.9901\n",
      "Epoch 56/200\n",
      "\u001b[1m181/181\u001b[0m \u001b[32m━━━━━━━━━━━━━━━━━━━━\u001b[0m\u001b[37m\u001b[0m \u001b[1m1s\u001b[0m 3ms/step - loss: 0.8099 - val_loss: 0.9300\n",
      "Epoch 57/200\n",
      "\u001b[1m181/181\u001b[0m \u001b[32m━━━━━━━━━━━━━━━━━━━━\u001b[0m\u001b[37m\u001b[0m \u001b[1m1s\u001b[0m 3ms/step - loss: 0.8149 - val_loss: 0.9237\n",
      "Epoch 58/200\n",
      "\u001b[1m181/181\u001b[0m \u001b[32m━━━━━━━━━━━━━━━━━━━━\u001b[0m\u001b[37m\u001b[0m \u001b[1m1s\u001b[0m 4ms/step - loss: 0.8164 - val_loss: 0.8539\n",
      "Epoch 59/200\n",
      "\u001b[1m181/181\u001b[0m \u001b[32m━━━━━━━━━━━━━━━━━━━━\u001b[0m\u001b[37m\u001b[0m \u001b[1m1s\u001b[0m 4ms/step - loss: 0.8121 - val_loss: 0.9266\n",
      "Epoch 60/200\n",
      "\u001b[1m181/181\u001b[0m \u001b[32m━━━━━━━━━━━━━━━━━━━━\u001b[0m\u001b[37m\u001b[0m \u001b[1m1s\u001b[0m 3ms/step - loss: 0.8018 - val_loss: 0.8403\n",
      "Epoch 61/200\n",
      "\u001b[1m181/181\u001b[0m \u001b[32m━━━━━━━━━━━━━━━━━━━━\u001b[0m\u001b[37m\u001b[0m \u001b[1m1s\u001b[0m 3ms/step - loss: 0.7997 - val_loss: 0.8629\n",
      "Epoch 62/200\n",
      "\u001b[1m181/181\u001b[0m \u001b[32m━━━━━━━━━━━━━━━━━━━━\u001b[0m\u001b[37m\u001b[0m \u001b[1m1s\u001b[0m 4ms/step - loss: 0.8148 - val_loss: 0.8238\n",
      "Epoch 63/200\n",
      "\u001b[1m181/181\u001b[0m \u001b[32m━━━━━━━━━━━━━━━━━━━━\u001b[0m\u001b[37m\u001b[0m \u001b[1m1s\u001b[0m 4ms/step - loss: 0.8025 - val_loss: 0.8351\n",
      "Epoch 64/200\n",
      "\u001b[1m181/181\u001b[0m \u001b[32m━━━━━━━━━━━━━━━━━━━━\u001b[0m\u001b[37m\u001b[0m \u001b[1m1s\u001b[0m 3ms/step - loss: 0.8048 - val_loss: 0.8500\n",
      "Epoch 65/200\n",
      "\u001b[1m181/181\u001b[0m \u001b[32m━━━━━━━━━━━━━━━━━━━━\u001b[0m\u001b[37m\u001b[0m \u001b[1m1s\u001b[0m 4ms/step - loss: 0.8092 - val_loss: 0.8354\n",
      "Epoch 66/200\n",
      "\u001b[1m181/181\u001b[0m \u001b[32m━━━━━━━━━━━━━━━━━━━━\u001b[0m\u001b[37m\u001b[0m \u001b[1m1s\u001b[0m 3ms/step - loss: 0.8025 - val_loss: 0.8635\n",
      "Epoch 67/200\n",
      "\u001b[1m181/181\u001b[0m \u001b[32m━━━━━━━━━━━━━━━━━━━━\u001b[0m\u001b[37m\u001b[0m \u001b[1m1s\u001b[0m 4ms/step - loss: 0.7954 - val_loss: 0.8342\n",
      "Epoch 68/200\n",
      "\u001b[1m181/181\u001b[0m \u001b[32m━━━━━━━━━━━━━━━━━━━━\u001b[0m\u001b[37m\u001b[0m \u001b[1m1s\u001b[0m 4ms/step - loss: 0.8062 - val_loss: 0.8361\n",
      "Epoch 69/200\n",
      "\u001b[1m181/181\u001b[0m \u001b[32m━━━━━━━━━━━━━━━━━━━━\u001b[0m\u001b[37m\u001b[0m \u001b[1m1s\u001b[0m 3ms/step - loss: 0.8105 - val_loss: 0.8418\n",
      "Epoch 70/200\n",
      "\u001b[1m181/181\u001b[0m \u001b[32m━━━━━━━━━━━━━━━━━━━━\u001b[0m\u001b[37m\u001b[0m \u001b[1m1s\u001b[0m 3ms/step - loss: 0.8039 - val_loss: 0.8313\n",
      "Epoch 71/200\n",
      "\u001b[1m181/181\u001b[0m \u001b[32m━━━━━━━━━━━━━━━━━━━━\u001b[0m\u001b[37m\u001b[0m \u001b[1m1s\u001b[0m 3ms/step - loss: 0.7963 - val_loss: 0.8506\n",
      "Epoch 72/200\n",
      "\u001b[1m181/181\u001b[0m \u001b[32m━━━━━━━━━━━━━━━━━━━━\u001b[0m\u001b[37m\u001b[0m \u001b[1m1s\u001b[0m 4ms/step - loss: 0.7943 - val_loss: 0.8796\n",
      "Epoch 73/200\n",
      "\u001b[1m181/181\u001b[0m \u001b[32m━━━━━━━━━━━━━━━━━━━━\u001b[0m\u001b[37m\u001b[0m \u001b[1m1s\u001b[0m 3ms/step - loss: 0.7965 - val_loss: 0.8515\n",
      "Epoch 74/200\n",
      "\u001b[1m181/181\u001b[0m \u001b[32m━━━━━━━━━━━━━━━━━━━━\u001b[0m\u001b[37m\u001b[0m \u001b[1m1s\u001b[0m 3ms/step - loss: 0.8072 - val_loss: 0.8275\n",
      "Epoch 75/200\n",
      "\u001b[1m181/181\u001b[0m \u001b[32m━━━━━━━━━━━━━━━━━━━━\u001b[0m\u001b[37m\u001b[0m \u001b[1m1s\u001b[0m 3ms/step - loss: 0.7985 - val_loss: 0.8501\n",
      "Epoch 76/200\n",
      "\u001b[1m181/181\u001b[0m \u001b[32m━━━━━━━━━━━━━━━━━━━━\u001b[0m\u001b[37m\u001b[0m \u001b[1m1s\u001b[0m 3ms/step - loss: 0.8049 - val_loss: 0.8718\n",
      "Epoch 77/200\n",
      "\u001b[1m181/181\u001b[0m \u001b[32m━━━━━━━━━━━━━━━━━━━━\u001b[0m\u001b[37m\u001b[0m \u001b[1m1s\u001b[0m 3ms/step - loss: 0.7887 - val_loss: 0.8214\n",
      "Epoch 78/200\n",
      "\u001b[1m181/181\u001b[0m \u001b[32m━━━━━━━━━━━━━━━━━━━━\u001b[0m\u001b[37m\u001b[0m \u001b[1m1s\u001b[0m 3ms/step - loss: 0.7995 - val_loss: 0.8286\n",
      "Epoch 79/200\n",
      "\u001b[1m181/181\u001b[0m \u001b[32m━━━━━━━━━━━━━━━━━━━━\u001b[0m\u001b[37m\u001b[0m \u001b[1m1s\u001b[0m 3ms/step - loss: 0.8035 - val_loss: 0.8716\n",
      "Epoch 80/200\n",
      "\u001b[1m181/181\u001b[0m \u001b[32m━━━━━━━━━━━━━━━━━━━━\u001b[0m\u001b[37m\u001b[0m \u001b[1m1s\u001b[0m 3ms/step - loss: 0.7926 - val_loss: 0.8406\n",
      "Epoch 81/200\n",
      "\u001b[1m181/181\u001b[0m \u001b[32m━━━━━━━━━━━━━━━━━━━━\u001b[0m\u001b[37m\u001b[0m \u001b[1m1s\u001b[0m 3ms/step - loss: 0.7964 - val_loss: 0.8245\n",
      "Epoch 82/200\n",
      "\u001b[1m181/181\u001b[0m \u001b[32m━━━━━━━━━━━━━━━━━━━━\u001b[0m\u001b[37m\u001b[0m \u001b[1m1s\u001b[0m 3ms/step - loss: 0.7812 - val_loss: 0.8614\n",
      "Epoch 83/200\n",
      "\u001b[1m181/181\u001b[0m \u001b[32m━━━━━━━━━━━━━━━━━━━━\u001b[0m\u001b[37m\u001b[0m \u001b[1m1s\u001b[0m 3ms/step - loss: 0.7915 - val_loss: 0.8260\n",
      "Epoch 84/200\n",
      "\u001b[1m181/181\u001b[0m \u001b[32m━━━━━━━━━━━━━━━━━━━━\u001b[0m\u001b[37m\u001b[0m \u001b[1m1s\u001b[0m 3ms/step - loss: 0.8001 - val_loss: 0.8648\n",
      "Epoch 85/200\n",
      "\u001b[1m181/181\u001b[0m \u001b[32m━━━━━━━━━━━━━━━━━━━━\u001b[0m\u001b[37m\u001b[0m \u001b[1m1s\u001b[0m 3ms/step - loss: 0.8049 - val_loss: 0.8534\n",
      "Epoch 86/200\n",
      "\u001b[1m181/181\u001b[0m \u001b[32m━━━━━━━━━━━━━━━━━━━━\u001b[0m\u001b[37m\u001b[0m \u001b[1m1s\u001b[0m 3ms/step - loss: 0.7908 - val_loss: 0.8875\n",
      "Epoch 87/200\n",
      "\u001b[1m181/181\u001b[0m \u001b[32m━━━━━━━━━━━━━━━━━━━━\u001b[0m\u001b[37m\u001b[0m \u001b[1m1s\u001b[0m 3ms/step - loss: 0.8014 - val_loss: 0.8431\n",
      "Epoch 88/200\n",
      "\u001b[1m181/181\u001b[0m \u001b[32m━━━━━━━━━━━━━━━━━━━━\u001b[0m\u001b[37m\u001b[0m \u001b[1m1s\u001b[0m 3ms/step - loss: 0.7934 - val_loss: 0.8203\n",
      "Epoch 89/200\n",
      "\u001b[1m181/181\u001b[0m \u001b[32m━━━━━━━━━━━━━━━━━━━━\u001b[0m\u001b[37m\u001b[0m \u001b[1m1s\u001b[0m 3ms/step - loss: 0.8076 - val_loss: 0.8183\n",
      "Epoch 90/200\n",
      "\u001b[1m181/181\u001b[0m \u001b[32m━━━━━━━━━━━━━━━━━━━━\u001b[0m\u001b[37m\u001b[0m \u001b[1m1s\u001b[0m 4ms/step - loss: 0.7912 - val_loss: 0.8230\n",
      "Epoch 91/200\n",
      "\u001b[1m181/181\u001b[0m \u001b[32m━━━━━━━━━━━━━━━━━━━━\u001b[0m\u001b[37m\u001b[0m \u001b[1m1s\u001b[0m 3ms/step - loss: 0.7931 - val_loss: 0.8442\n",
      "Epoch 92/200\n",
      "\u001b[1m181/181\u001b[0m \u001b[32m━━━━━━━━━━━━━━━━━━━━\u001b[0m\u001b[37m\u001b[0m \u001b[1m1s\u001b[0m 3ms/step - loss: 0.7838 - val_loss: 0.8165\n",
      "Epoch 93/200\n",
      "\u001b[1m181/181\u001b[0m \u001b[32m━━━━━━━━━━━━━━━━━━━━\u001b[0m\u001b[37m\u001b[0m \u001b[1m1s\u001b[0m 3ms/step - loss: 0.7845 - val_loss: 0.8282\n",
      "Epoch 94/200\n",
      "\u001b[1m181/181\u001b[0m \u001b[32m━━━━━━━━━━━━━━━━━━━━\u001b[0m\u001b[37m\u001b[0m \u001b[1m1s\u001b[0m 3ms/step - loss: 0.7857 - val_loss: 0.8318\n",
      "Epoch 95/200\n",
      "\u001b[1m181/181\u001b[0m \u001b[32m━━━━━━━━━━━━━━━━━━━━\u001b[0m\u001b[37m\u001b[0m \u001b[1m1s\u001b[0m 4ms/step - loss: 0.7947 - val_loss: 0.8150\n",
      "Epoch 96/200\n",
      "\u001b[1m181/181\u001b[0m \u001b[32m━━━━━━━━━━━━━━━━━━━━\u001b[0m\u001b[37m\u001b[0m \u001b[1m1s\u001b[0m 4ms/step - loss: 0.7784 - val_loss: 0.8208\n",
      "Epoch 97/200\n",
      "\u001b[1m181/181\u001b[0m \u001b[32m━━━━━━━━━━━━━━━━━━━━\u001b[0m\u001b[37m\u001b[0m \u001b[1m1s\u001b[0m 4ms/step - loss: 0.7826 - val_loss: 0.8811\n",
      "Epoch 98/200\n",
      "\u001b[1m181/181\u001b[0m \u001b[32m━━━━━━━━━━━━━━━━━━━━\u001b[0m\u001b[37m\u001b[0m \u001b[1m1s\u001b[0m 3ms/step - loss: 0.7896 - val_loss: 0.8257\n",
      "Epoch 99/200\n",
      "\u001b[1m181/181\u001b[0m \u001b[32m━━━━━━━━━━━━━━━━━━━━\u001b[0m\u001b[37m\u001b[0m \u001b[1m1s\u001b[0m 4ms/step - loss: 0.7954 - val_loss: 0.8485\n",
      "Epoch 100/200\n",
      "\u001b[1m181/181\u001b[0m \u001b[32m━━━━━━━━━━━━━━━━━━━━\u001b[0m\u001b[37m\u001b[0m \u001b[1m1s\u001b[0m 3ms/step - loss: 0.7876 - val_loss: 0.8237\n",
      "Epoch 101/200\n",
      "\u001b[1m181/181\u001b[0m \u001b[32m━━━━━━━━━━━━━━━━━━━━\u001b[0m\u001b[37m\u001b[0m \u001b[1m1s\u001b[0m 3ms/step - loss: 0.7727 - val_loss: 0.8220\n",
      "Epoch 102/200\n",
      "\u001b[1m181/181\u001b[0m \u001b[32m━━━━━━━━━━━━━━━━━━━━\u001b[0m\u001b[37m\u001b[0m \u001b[1m1s\u001b[0m 3ms/step - loss: 0.7751 - val_loss: 0.8224\n",
      "Epoch 103/200\n",
      "\u001b[1m181/181\u001b[0m \u001b[32m━━━━━━━━━━━━━━━━━━━━\u001b[0m\u001b[37m\u001b[0m \u001b[1m1s\u001b[0m 3ms/step - loss: 0.7986 - val_loss: 0.8172\n",
      "Epoch 104/200\n",
      "\u001b[1m181/181\u001b[0m \u001b[32m━━━━━━━━━━━━━━━━━━━━\u001b[0m\u001b[37m\u001b[0m \u001b[1m1s\u001b[0m 3ms/step - loss: 0.7776 - val_loss: 0.8347\n",
      "Epoch 105/200\n",
      "\u001b[1m181/181\u001b[0m \u001b[32m━━━━━━━━━━━━━━━━━━━━\u001b[0m\u001b[37m\u001b[0m \u001b[1m1s\u001b[0m 3ms/step - loss: 0.7895 - val_loss: 0.8359\n",
      "Epoch 106/200\n",
      "\u001b[1m181/181\u001b[0m \u001b[32m━━━━━━━━━━━━━━━━━━━━\u001b[0m\u001b[37m\u001b[0m \u001b[1m1s\u001b[0m 3ms/step - loss: 0.7746 - val_loss: 0.8270\n",
      "Epoch 107/200\n",
      "\u001b[1m181/181\u001b[0m \u001b[32m━━━━━━━━━━━━━━━━━━━━\u001b[0m\u001b[37m\u001b[0m \u001b[1m1s\u001b[0m 3ms/step - loss: 0.7771 - val_loss: 0.8170\n",
      "Epoch 108/200\n",
      "\u001b[1m181/181\u001b[0m \u001b[32m━━━━━━━━━━━━━━━━━━━━\u001b[0m\u001b[37m\u001b[0m \u001b[1m1s\u001b[0m 3ms/step - loss: 0.7710 - val_loss: 0.8408\n",
      "Epoch 109/200\n",
      "\u001b[1m181/181\u001b[0m \u001b[32m━━━━━━━━━━━━━━━━━━━━\u001b[0m\u001b[37m\u001b[0m \u001b[1m1s\u001b[0m 3ms/step - loss: 0.7804 - val_loss: 0.8419\n",
      "Epoch 110/200\n",
      "\u001b[1m181/181\u001b[0m \u001b[32m━━━━━━━━━━━━━━━━━━━━\u001b[0m\u001b[37m\u001b[0m \u001b[1m1s\u001b[0m 3ms/step - loss: 0.7761 - val_loss: 0.8317\n",
      "Epoch 111/200\n",
      "\u001b[1m181/181\u001b[0m \u001b[32m━━━━━━━━━━━━━━━━━━━━\u001b[0m\u001b[37m\u001b[0m \u001b[1m0s\u001b[0m 3ms/step - loss: 0.7829 - val_loss: 0.8178\n",
      "Epoch 112/200\n",
      "\u001b[1m181/181\u001b[0m \u001b[32m━━━━━━━━━━━━━━━━━━━━\u001b[0m\u001b[37m\u001b[0m \u001b[1m1s\u001b[0m 3ms/step - loss: 0.7765 - val_loss: 0.9052\n",
      "Epoch 113/200\n",
      "\u001b[1m181/181\u001b[0m \u001b[32m━━━━━━━━━━━━━━━━━━━━\u001b[0m\u001b[37m\u001b[0m \u001b[1m1s\u001b[0m 3ms/step - loss: 0.7796 - val_loss: 0.8723\n",
      "Epoch 114/200\n",
      "\u001b[1m181/181\u001b[0m \u001b[32m━━━━━━━━━━━━━━━━━━━━\u001b[0m\u001b[37m\u001b[0m \u001b[1m1s\u001b[0m 3ms/step - loss: 0.7642 - val_loss: 0.8196\n",
      "Epoch 115/200\n",
      "\u001b[1m181/181\u001b[0m \u001b[32m━━━━━━━━━━━━━━━━━━━━\u001b[0m\u001b[37m\u001b[0m \u001b[1m1s\u001b[0m 3ms/step - loss: 0.7771 - val_loss: 0.7954\n",
      "Epoch 116/200\n",
      "\u001b[1m181/181\u001b[0m \u001b[32m━━━━━━━━━━━━━━━━━━━━\u001b[0m\u001b[37m\u001b[0m \u001b[1m1s\u001b[0m 3ms/step - loss: 0.7620 - val_loss: 0.8107\n",
      "Epoch 117/200\n",
      "\u001b[1m181/181\u001b[0m \u001b[32m━━━━━━━━━━━━━━━━━━━━\u001b[0m\u001b[37m\u001b[0m \u001b[1m1s\u001b[0m 3ms/step - loss: 0.7728 - val_loss: 0.8125\n",
      "Epoch 118/200\n",
      "\u001b[1m181/181\u001b[0m \u001b[32m━━━━━━━━━━━━━━━━━━━━\u001b[0m\u001b[37m\u001b[0m \u001b[1m1s\u001b[0m 4ms/step - loss: 0.7705 - val_loss: 0.8205\n",
      "Epoch 119/200\n",
      "\u001b[1m181/181\u001b[0m \u001b[32m━━━━━━━━━━━━━━━━━━━━\u001b[0m\u001b[37m\u001b[0m \u001b[1m1s\u001b[0m 3ms/step - loss: 0.7611 - val_loss: 0.8324\n",
      "Epoch 120/200\n",
      "\u001b[1m181/181\u001b[0m \u001b[32m━━━━━━━━━━━━━━━━━━━━\u001b[0m\u001b[37m\u001b[0m \u001b[1m1s\u001b[0m 3ms/step - loss: 0.7681 - val_loss: 0.8304\n",
      "Epoch 121/200\n",
      "\u001b[1m181/181\u001b[0m \u001b[32m━━━━━━━━━━━━━━━━━━━━\u001b[0m\u001b[37m\u001b[0m \u001b[1m1s\u001b[0m 3ms/step - loss: 0.7634 - val_loss: 0.8242\n",
      "Epoch 122/200\n",
      "\u001b[1m181/181\u001b[0m \u001b[32m━━━━━━━━━━━━━━━━━━━━\u001b[0m\u001b[37m\u001b[0m \u001b[1m1s\u001b[0m 3ms/step - loss: 0.7654 - val_loss: 0.7892\n",
      "Epoch 123/200\n",
      "\u001b[1m181/181\u001b[0m \u001b[32m━━━━━━━━━━━━━━━━━━━━\u001b[0m\u001b[37m\u001b[0m \u001b[1m1s\u001b[0m 3ms/step - loss: 0.7738 - val_loss: 0.7927\n",
      "Epoch 124/200\n",
      "\u001b[1m181/181\u001b[0m \u001b[32m━━━━━━━━━━━━━━━━━━━━\u001b[0m\u001b[37m\u001b[0m \u001b[1m1s\u001b[0m 3ms/step - loss: 0.7561 - val_loss: 0.8051\n",
      "Epoch 125/200\n",
      "\u001b[1m181/181\u001b[0m \u001b[32m━━━━━━━━━━━━━━━━━━━━\u001b[0m\u001b[37m\u001b[0m \u001b[1m1s\u001b[0m 3ms/step - loss: 0.7579 - val_loss: 0.8059\n",
      "Epoch 126/200\n",
      "\u001b[1m181/181\u001b[0m \u001b[32m━━━━━━━━━━━━━━━━━━━━\u001b[0m\u001b[37m\u001b[0m \u001b[1m1s\u001b[0m 3ms/step - loss: 0.7669 - val_loss: 0.8189\n",
      "Epoch 127/200\n",
      "\u001b[1m181/181\u001b[0m \u001b[32m━━━━━━━━━━━━━━━━━━━━\u001b[0m\u001b[37m\u001b[0m \u001b[1m1s\u001b[0m 3ms/step - loss: 0.7588 - val_loss: 0.7862\n",
      "Epoch 128/200\n",
      "\u001b[1m181/181\u001b[0m \u001b[32m━━━━━━━━━━━━━━━━━━━━\u001b[0m\u001b[37m\u001b[0m \u001b[1m1s\u001b[0m 3ms/step - loss: 0.7551 - val_loss: 0.7788\n",
      "Epoch 129/200\n",
      "\u001b[1m181/181\u001b[0m \u001b[32m━━━━━━━━━━━━━━━━━━━━\u001b[0m\u001b[37m\u001b[0m \u001b[1m1s\u001b[0m 3ms/step - loss: 0.7529 - val_loss: 0.8174\n",
      "Epoch 130/200\n",
      "\u001b[1m181/181\u001b[0m \u001b[32m━━━━━━━━━━━━━━━━━━━━\u001b[0m\u001b[37m\u001b[0m \u001b[1m1s\u001b[0m 3ms/step - loss: 0.7565 - val_loss: 0.8708\n",
      "Epoch 131/200\n",
      "\u001b[1m181/181\u001b[0m \u001b[32m━━━━━━━━━━━━━━━━━━━━\u001b[0m\u001b[37m\u001b[0m \u001b[1m1s\u001b[0m 3ms/step - loss: 0.7621 - val_loss: 0.8747\n",
      "Epoch 132/200\n",
      "\u001b[1m181/181\u001b[0m \u001b[32m━━━━━━━━━━━━━━━━━━━━\u001b[0m\u001b[37m\u001b[0m \u001b[1m1s\u001b[0m 3ms/step - loss: 0.7508 - val_loss: 0.7892\n",
      "Epoch 133/200\n",
      "\u001b[1m181/181\u001b[0m \u001b[32m━━━━━━━━━━━━━━━━━━━━\u001b[0m\u001b[37m\u001b[0m \u001b[1m1s\u001b[0m 3ms/step - loss: 0.7480 - val_loss: 0.8502\n",
      "Epoch 134/200\n",
      "\u001b[1m181/181\u001b[0m \u001b[32m━━━━━━━━━━━━━━━━━━━━\u001b[0m\u001b[37m\u001b[0m \u001b[1m1s\u001b[0m 3ms/step - loss: 0.7505 - val_loss: 0.7883\n",
      "Epoch 135/200\n",
      "\u001b[1m181/181\u001b[0m \u001b[32m━━━━━━━━━━━━━━━━━━━━\u001b[0m\u001b[37m\u001b[0m \u001b[1m1s\u001b[0m 3ms/step - loss: 0.7434 - val_loss: 0.7909\n",
      "Epoch 136/200\n",
      "\u001b[1m181/181\u001b[0m \u001b[32m━━━━━━━━━━━━━━━━━━━━\u001b[0m\u001b[37m\u001b[0m \u001b[1m1s\u001b[0m 3ms/step - loss: 0.7529 - val_loss: 0.7858\n",
      "Epoch 137/200\n",
      "\u001b[1m181/181\u001b[0m \u001b[32m━━━━━━━━━━━━━━━━━━━━\u001b[0m\u001b[37m\u001b[0m \u001b[1m1s\u001b[0m 3ms/step - loss: 0.7448 - val_loss: 0.7695\n",
      "Epoch 138/200\n",
      "\u001b[1m181/181\u001b[0m \u001b[32m━━━━━━━━━━━━━━━━━━━━\u001b[0m\u001b[37m\u001b[0m \u001b[1m1s\u001b[0m 3ms/step - loss: 0.7404 - val_loss: 0.8644\n",
      "Epoch 139/200\n",
      "\u001b[1m181/181\u001b[0m \u001b[32m━━━━━━━━━━━━━━━━━━━━\u001b[0m\u001b[37m\u001b[0m \u001b[1m1s\u001b[0m 3ms/step - loss: 0.7382 - val_loss: 0.7741\n",
      "Epoch 140/200\n",
      "\u001b[1m181/181\u001b[0m \u001b[32m━━━━━━━━━━━━━━━━━━━━\u001b[0m\u001b[37m\u001b[0m \u001b[1m1s\u001b[0m 3ms/step - loss: 0.7269 - val_loss: 0.7758\n",
      "Epoch 141/200\n",
      "\u001b[1m181/181\u001b[0m \u001b[32m━━━━━━━━━━━━━━━━━━━━\u001b[0m\u001b[37m\u001b[0m \u001b[1m1s\u001b[0m 3ms/step - loss: 0.7368 - val_loss: 0.8240\n",
      "Epoch 142/200\n",
      "\u001b[1m181/181\u001b[0m \u001b[32m━━━━━━━━━━━━━━━━━━━━\u001b[0m\u001b[37m\u001b[0m \u001b[1m1s\u001b[0m 3ms/step - loss: 0.7269 - val_loss: 0.7456\n",
      "Epoch 143/200\n",
      "\u001b[1m181/181\u001b[0m \u001b[32m━━━━━━━━━━━━━━━━━━━━\u001b[0m\u001b[37m\u001b[0m \u001b[1m1s\u001b[0m 3ms/step - loss: 0.7141 - val_loss: 0.7324\n",
      "Epoch 144/200\n",
      "\u001b[1m181/181\u001b[0m \u001b[32m━━━━━━━━━━━━━━━━━━━━\u001b[0m\u001b[37m\u001b[0m \u001b[1m1s\u001b[0m 3ms/step - loss: 0.7007 - val_loss: 0.7515\n",
      "Epoch 145/200\n",
      "\u001b[1m181/181\u001b[0m \u001b[32m━━━━━━━━━━━━━━━━━━━━\u001b[0m\u001b[37m\u001b[0m \u001b[1m1s\u001b[0m 3ms/step - loss: 0.6931 - val_loss: 0.7124\n",
      "Epoch 146/200\n",
      "\u001b[1m181/181\u001b[0m \u001b[32m━━━━━━━━━━━━━━━━━━━━\u001b[0m\u001b[37m\u001b[0m \u001b[1m1s\u001b[0m 3ms/step - loss: 0.7050 - val_loss: 0.7576\n",
      "Epoch 147/200\n",
      "\u001b[1m181/181\u001b[0m \u001b[32m━━━━━━━━━━━━━━━━━━━━\u001b[0m\u001b[37m\u001b[0m \u001b[1m1s\u001b[0m 3ms/step - loss: 0.6756 - val_loss: 0.7227\n",
      "Epoch 148/200\n",
      "\u001b[1m181/181\u001b[0m \u001b[32m━━━━━━━━━━━━━━━━━━━━\u001b[0m\u001b[37m\u001b[0m \u001b[1m1s\u001b[0m 3ms/step - loss: 0.6706 - val_loss: 0.6968\n",
      "Epoch 149/200\n",
      "\u001b[1m181/181\u001b[0m \u001b[32m━━━━━━━━━━━━━━━━━━━━\u001b[0m\u001b[37m\u001b[0m \u001b[1m1s\u001b[0m 3ms/step - loss: 0.6628 - val_loss: 0.6735\n",
      "Epoch 150/200\n",
      "\u001b[1m181/181\u001b[0m \u001b[32m━━━━━━━━━━━━━━━━━━━━\u001b[0m\u001b[37m\u001b[0m \u001b[1m1s\u001b[0m 3ms/step - loss: 0.6572 - val_loss: 0.6752\n",
      "Epoch 151/200\n",
      "\u001b[1m181/181\u001b[0m \u001b[32m━━━━━━━━━━━━━━━━━━━━\u001b[0m\u001b[37m\u001b[0m \u001b[1m1s\u001b[0m 3ms/step - loss: 0.6684 - val_loss: 0.7076\n",
      "Epoch 152/200\n",
      "\u001b[1m181/181\u001b[0m \u001b[32m━━━━━━━━━━━━━━━━━━━━\u001b[0m\u001b[37m\u001b[0m \u001b[1m1s\u001b[0m 3ms/step - loss: 0.6395 - val_loss: 0.6807\n",
      "Epoch 153/200\n",
      "\u001b[1m181/181\u001b[0m \u001b[32m━━━━━━━━━━━━━━━━━━━━\u001b[0m\u001b[37m\u001b[0m \u001b[1m1s\u001b[0m 3ms/step - loss: 0.6397 - val_loss: 0.6667\n",
      "Epoch 154/200\n",
      "\u001b[1m181/181\u001b[0m \u001b[32m━━━━━━━━━━━━━━━━━━━━\u001b[0m\u001b[37m\u001b[0m \u001b[1m1s\u001b[0m 3ms/step - loss: 0.6434 - val_loss: 0.6470\n",
      "Epoch 155/200\n",
      "\u001b[1m181/181\u001b[0m \u001b[32m━━━━━━━━━━━━━━━━━━━━\u001b[0m\u001b[37m\u001b[0m \u001b[1m1s\u001b[0m 3ms/step - loss: 0.6234 - val_loss: 0.6864\n",
      "Epoch 156/200\n",
      "\u001b[1m181/181\u001b[0m \u001b[32m━━━━━━━━━━━━━━━━━━━━\u001b[0m\u001b[37m\u001b[0m \u001b[1m1s\u001b[0m 3ms/step - loss: 0.6292 - val_loss: 0.6336\n",
      "Epoch 157/200\n",
      "\u001b[1m181/181\u001b[0m \u001b[32m━━━━━━━━━━━━━━━━━━━━\u001b[0m\u001b[37m\u001b[0m \u001b[1m1s\u001b[0m 3ms/step - loss: 0.6199 - val_loss: 0.6355\n",
      "Epoch 158/200\n",
      "\u001b[1m181/181\u001b[0m \u001b[32m━━━━━━━━━━━━━━━━━━━━\u001b[0m\u001b[37m\u001b[0m \u001b[1m1s\u001b[0m 3ms/step - loss: 0.6278 - val_loss: 0.6755\n",
      "Epoch 159/200\n",
      "\u001b[1m181/181\u001b[0m \u001b[32m━━━━━━━━━━━━━━━━━━━━\u001b[0m\u001b[37m\u001b[0m \u001b[1m1s\u001b[0m 3ms/step - loss: 0.6202 - val_loss: 0.6386\n",
      "Epoch 160/200\n",
      "\u001b[1m181/181\u001b[0m \u001b[32m━━━━━━━━━━━━━━━━━━━━\u001b[0m\u001b[37m\u001b[0m \u001b[1m1s\u001b[0m 3ms/step - loss: 0.6192 - val_loss: 0.6890\n",
      "Epoch 161/200\n",
      "\u001b[1m181/181\u001b[0m \u001b[32m━━━━━━━━━━━━━━━━━━━━\u001b[0m\u001b[37m\u001b[0m \u001b[1m1s\u001b[0m 3ms/step - loss: 0.6314 - val_loss: 0.6351\n",
      "Epoch 162/200\n",
      "\u001b[1m181/181\u001b[0m \u001b[32m━━━━━━━━━━━━━━━━━━━━\u001b[0m\u001b[37m\u001b[0m \u001b[1m1s\u001b[0m 3ms/step - loss: 0.6233 - val_loss: 0.6343\n",
      "Epoch 163/200\n",
      "\u001b[1m181/181\u001b[0m \u001b[32m━━━━━━━━━━━━━━━━━━━━\u001b[0m\u001b[37m\u001b[0m \u001b[1m1s\u001b[0m 3ms/step - loss: 0.6244 - val_loss: 0.6282\n",
      "Epoch 164/200\n",
      "\u001b[1m181/181\u001b[0m \u001b[32m━━━━━━━━━━━━━━━━━━━━\u001b[0m\u001b[37m\u001b[0m \u001b[1m1s\u001b[0m 3ms/step - loss: 0.6169 - val_loss: 0.6433\n",
      "Epoch 165/200\n",
      "\u001b[1m181/181\u001b[0m \u001b[32m━━━━━━━━━━━━━━━━━━━━\u001b[0m\u001b[37m\u001b[0m \u001b[1m1s\u001b[0m 3ms/step - loss: 0.6149 - val_loss: 0.6539\n",
      "Epoch 166/200\n",
      "\u001b[1m181/181\u001b[0m \u001b[32m━━━━━━━━━━━━━━━━━━━━\u001b[0m\u001b[37m\u001b[0m \u001b[1m1s\u001b[0m 3ms/step - loss: 0.6178 - val_loss: 0.6622\n",
      "Epoch 167/200\n",
      "\u001b[1m181/181\u001b[0m \u001b[32m━━━━━━━━━━━━━━━━━━━━\u001b[0m\u001b[37m\u001b[0m \u001b[1m1s\u001b[0m 3ms/step - loss: 0.6068 - val_loss: 0.6684\n",
      "Epoch 168/200\n",
      "\u001b[1m181/181\u001b[0m \u001b[32m━━━━━━━━━━━━━━━━━━━━\u001b[0m\u001b[37m\u001b[0m \u001b[1m1s\u001b[0m 3ms/step - loss: 0.6111 - val_loss: 0.6516\n",
      "Epoch 169/200\n",
      "\u001b[1m181/181\u001b[0m \u001b[32m━━━━━━━━━━━━━━━━━━━━\u001b[0m\u001b[37m\u001b[0m \u001b[1m1s\u001b[0m 3ms/step - loss: 0.6156 - val_loss: 0.6592\n",
      "Epoch 170/200\n",
      "\u001b[1m181/181\u001b[0m \u001b[32m━━━━━━━━━━━━━━━━━━━━\u001b[0m\u001b[37m\u001b[0m \u001b[1m1s\u001b[0m 3ms/step - loss: 0.6041 - val_loss: 0.6519\n",
      "Epoch 171/200\n",
      "\u001b[1m181/181\u001b[0m \u001b[32m━━━━━━━━━━━━━━━━━━━━\u001b[0m\u001b[37m\u001b[0m \u001b[1m1s\u001b[0m 3ms/step - loss: 0.6056 - val_loss: 0.6804\n",
      "Epoch 172/200\n",
      "\u001b[1m181/181\u001b[0m \u001b[32m━━━━━━━━━━━━━━━━━━━━\u001b[0m\u001b[37m\u001b[0m \u001b[1m1s\u001b[0m 3ms/step - loss: 0.6169 - val_loss: 0.6895\n",
      "Epoch 173/200\n",
      "\u001b[1m181/181\u001b[0m \u001b[32m━━━━━━━━━━━━━━━━━━━━\u001b[0m\u001b[37m\u001b[0m \u001b[1m1s\u001b[0m 3ms/step - loss: 0.6247 - val_loss: 0.6718\n",
      "Epoch 174/200\n",
      "\u001b[1m181/181\u001b[0m \u001b[32m━━━━━━━━━━━━━━━━━━━━\u001b[0m\u001b[37m\u001b[0m \u001b[1m1s\u001b[0m 3ms/step - loss: 0.6008 - val_loss: 0.6184\n",
      "Epoch 175/200\n",
      "\u001b[1m181/181\u001b[0m \u001b[32m━━━━━━━━━━━━━━━━━━━━\u001b[0m\u001b[37m\u001b[0m \u001b[1m1s\u001b[0m 3ms/step - loss: 0.6178 - val_loss: 0.6247\n",
      "Epoch 176/200\n",
      "\u001b[1m181/181\u001b[0m \u001b[32m━━━━━━━━━━━━━━━━━━━━\u001b[0m\u001b[37m\u001b[0m \u001b[1m1s\u001b[0m 3ms/step - loss: 0.6028 - val_loss: 0.6251\n",
      "Epoch 177/200\n",
      "\u001b[1m181/181\u001b[0m \u001b[32m━━━━━━━━━━━━━━━━━━━━\u001b[0m\u001b[37m\u001b[0m \u001b[1m1s\u001b[0m 3ms/step - loss: 0.6019 - val_loss: 0.6394\n",
      "Epoch 178/200\n",
      "\u001b[1m181/181\u001b[0m \u001b[32m━━━━━━━━━━━━━━━━━━━━\u001b[0m\u001b[37m\u001b[0m \u001b[1m1s\u001b[0m 3ms/step - loss: 0.6047 - val_loss: 0.6306\n",
      "Epoch 179/200\n",
      "\u001b[1m181/181\u001b[0m \u001b[32m━━━━━━━━━━━━━━━━━━━━\u001b[0m\u001b[37m\u001b[0m \u001b[1m1s\u001b[0m 3ms/step - loss: 0.6052 - val_loss: 0.6804\n",
      "Epoch 180/200\n",
      "\u001b[1m181/181\u001b[0m \u001b[32m━━━━━━━━━━━━━━━━━━━━\u001b[0m\u001b[37m\u001b[0m \u001b[1m1s\u001b[0m 3ms/step - loss: 0.6117 - val_loss: 0.6651\n",
      "Epoch 181/200\n",
      "\u001b[1m181/181\u001b[0m \u001b[32m━━━━━━━━━━━━━━━━━━━━\u001b[0m\u001b[37m\u001b[0m \u001b[1m1s\u001b[0m 4ms/step - loss: 0.6029 - val_loss: 0.6101\n",
      "Epoch 182/200\n",
      "\u001b[1m181/181\u001b[0m \u001b[32m━━━━━━━━━━━━━━━━━━━━\u001b[0m\u001b[37m\u001b[0m \u001b[1m1s\u001b[0m 3ms/step - loss: 0.5963 - val_loss: 0.6261\n",
      "Epoch 183/200\n",
      "\u001b[1m181/181\u001b[0m \u001b[32m━━━━━━━━━━━━━━━━━━━━\u001b[0m\u001b[37m\u001b[0m \u001b[1m1s\u001b[0m 3ms/step - loss: 0.6116 - val_loss: 0.6227\n",
      "Epoch 184/200\n",
      "\u001b[1m181/181\u001b[0m \u001b[32m━━━━━━━━━━━━━━━━━━━━\u001b[0m\u001b[37m\u001b[0m \u001b[1m1s\u001b[0m 3ms/step - loss: 0.6036 - val_loss: 0.6124\n",
      "Epoch 185/200\n",
      "\u001b[1m181/181\u001b[0m \u001b[32m━━━━━━━━━━━━━━━━━━━━\u001b[0m\u001b[37m\u001b[0m \u001b[1m1s\u001b[0m 3ms/step - loss: 0.6072 - val_loss: 0.6318\n",
      "Epoch 186/200\n",
      "\u001b[1m181/181\u001b[0m \u001b[32m━━━━━━━━━━━━━━━━━━━━\u001b[0m\u001b[37m\u001b[0m \u001b[1m1s\u001b[0m 3ms/step - loss: 0.5929 - val_loss: 0.6477\n",
      "Epoch 187/200\n",
      "\u001b[1m181/181\u001b[0m \u001b[32m━━━━━━━━━━━━━━━━━━━━\u001b[0m\u001b[37m\u001b[0m \u001b[1m1s\u001b[0m 3ms/step - loss: 0.6133 - val_loss: 0.6228\n",
      "Epoch 188/200\n",
      "\u001b[1m181/181\u001b[0m \u001b[32m━━━━━━━━━━━━━━━━━━━━\u001b[0m\u001b[37m\u001b[0m \u001b[1m1s\u001b[0m 3ms/step - loss: 0.5994 - val_loss: 0.6294\n",
      "Epoch 189/200\n",
      "\u001b[1m181/181\u001b[0m \u001b[32m━━━━━━━━━━━━━━━━━━━━\u001b[0m\u001b[37m\u001b[0m \u001b[1m1s\u001b[0m 3ms/step - loss: 0.5962 - val_loss: 0.6820\n",
      "Epoch 190/200\n",
      "\u001b[1m181/181\u001b[0m \u001b[32m━━━━━━━━━━━━━━━━━━━━\u001b[0m\u001b[37m\u001b[0m \u001b[1m1s\u001b[0m 3ms/step - loss: 0.6085 - val_loss: 0.6426\n",
      "Epoch 191/200\n",
      "\u001b[1m181/181\u001b[0m \u001b[32m━━━━━━━━━━━━━━━━━━━━\u001b[0m\u001b[37m\u001b[0m \u001b[1m1s\u001b[0m 3ms/step - loss: 0.5975 - val_loss: 0.6468\n",
      "Epoch 192/200\n",
      "\u001b[1m181/181\u001b[0m \u001b[32m━━━━━━━━━━━━━━━━━━━━\u001b[0m\u001b[37m\u001b[0m \u001b[1m1s\u001b[0m 3ms/step - loss: 0.6007 - val_loss: 0.6319\n",
      "Epoch 193/200\n",
      "\u001b[1m181/181\u001b[0m \u001b[32m━━━━━━━━━━━━━━━━━━━━\u001b[0m\u001b[37m\u001b[0m \u001b[1m1s\u001b[0m 3ms/step - loss: 0.6042 - val_loss: 0.6395\n",
      "Epoch 194/200\n",
      "\u001b[1m181/181\u001b[0m \u001b[32m━━━━━━━━━━━━━━━━━━━━\u001b[0m\u001b[37m\u001b[0m \u001b[1m1s\u001b[0m 3ms/step - loss: 0.6017 - val_loss: 0.7350\n",
      "Epoch 195/200\n",
      "\u001b[1m181/181\u001b[0m \u001b[32m━━━━━━━━━━━━━━━━━━━━\u001b[0m\u001b[37m\u001b[0m \u001b[1m1s\u001b[0m 3ms/step - loss: 0.6007 - val_loss: 0.6413\n",
      "Epoch 196/200\n",
      "\u001b[1m181/181\u001b[0m \u001b[32m━━━━━━━━━━━━━━━━━━━━\u001b[0m\u001b[37m\u001b[0m \u001b[1m1s\u001b[0m 3ms/step - loss: 0.6023 - val_loss: 0.6551\n",
      "Epoch 197/200\n",
      "\u001b[1m181/181\u001b[0m \u001b[32m━━━━━━━━━━━━━━━━━━━━\u001b[0m\u001b[37m\u001b[0m \u001b[1m1s\u001b[0m 3ms/step - loss: 0.5985 - val_loss: 0.6633\n",
      "Epoch 198/200\n",
      "\u001b[1m181/181\u001b[0m \u001b[32m━━━━━━━━━━━━━━━━━━━━\u001b[0m\u001b[37m\u001b[0m \u001b[1m1s\u001b[0m 3ms/step - loss: 0.6001 - val_loss: 0.6114\n",
      "Epoch 199/200\n",
      "\u001b[1m181/181\u001b[0m \u001b[32m━━━━━━━━━━━━━━━━━━━━\u001b[0m\u001b[37m\u001b[0m \u001b[1m1s\u001b[0m 3ms/step - loss: 0.5979 - val_loss: 0.6395\n",
      "Epoch 200/200\n",
      "\u001b[1m181/181\u001b[0m \u001b[32m━━━━━━━━━━━━━━━━━━━━\u001b[0m\u001b[37m\u001b[0m \u001b[1m1s\u001b[0m 3ms/step - loss: 0.6060 - val_loss: 0.6204\n"
     ]
    }
   ],
   "source": [
    "# Train the model\n",
    "checkpoint_filepath = './tmp/checkpoint_toy_couples.weights.h5'\n",
    "model_filepath = './tmp/checkpoint_toy_couples.keras'\n",
    "model.train(X_train, y_train, checkpoint_path=checkpoint_filepath, model_path=model_filepath)"
   ]
  },
  {
   "cell_type": "code",
   "execution_count": 14,
   "id": "bfbbddcb",
   "metadata": {},
   "outputs": [],
   "source": [
    "# Save training history\n",
    "history_filepath = './tmp/checkpoint_toy_couples.pkl'\n",
    "model.save_history(history_filepath)"
   ]
  },
  {
   "cell_type": "markdown",
   "id": "0cc3ac2c",
   "metadata": {},
   "source": [
    "### Otherwise, load trained model"
   ]
  },
  {
   "cell_type": "code",
   "execution_count": 15,
   "id": "06603c6c",
   "metadata": {},
   "outputs": [],
   "source": [
    "# Reload model and history\n",
    "history_filepath = './tmp/checkpoint_toy_couples.pkl'\n",
    "history = model.load_history(history_filepath)\n",
    "\n",
    "model_filepath = './tmp/checkpoint_toy_couples.keras'\n",
    "model.load_model(model_filepath)"
   ]
  },
  {
   "cell_type": "markdown",
   "id": "c759a2fc",
   "metadata": {},
   "source": [
    "### Model metrics"
   ]
  },
  {
   "cell_type": "code",
   "execution_count": 16,
   "id": "8819b5fe",
   "metadata": {},
   "outputs": [
    {
     "name": "stdout",
     "output_type": "stream",
     "text": [
      "\u001b[1m38/38\u001b[0m \u001b[32m━━━━━━━━━━━━━━━━━━━━\u001b[0m\u001b[37m\u001b[0m \u001b[1m0s\u001b[0m 5ms/step\n",
      "R² = 0.996\n",
      "MAE = 0.634\n",
      "RMSE = 0.853\n"
     ]
    }
   ],
   "source": [
    "# Evaluate on test set\n",
    "r2, mae, rmse = model.evaluate(X_test, y_test)\n",
    "\n",
    "print(f\"R² = {r2:.3f}\")\n",
    "print(f\"MAE = {mae:.3f}\")\n",
    "print(f\"RMSE = {rmse:.3f}\")"
   ]
  },
  {
   "cell_type": "code",
   "execution_count": 17,
   "id": "ed7dd88e",
   "metadata": {},
   "outputs": [
    {
     "name": "stdout",
     "output_type": "stream",
     "text": [
      "\u001b[1m38/38\u001b[0m \u001b[32m━━━━━━━━━━━━━━━━━━━━\u001b[0m\u001b[37m\u001b[0m \u001b[1m0s\u001b[0m 2ms/step \n"
     ]
    },
    {
     "data": {
      "image/png": "[encoded data removed]",
      "text/plain": [
       "<Figure size 1050x450 with 2 Axes>"
      ]
     },
     "metadata": {},
     "output_type": "display_data"
    }
   ],
   "source": [
    "delta = max(y_test) - min(y_test)\n",
    "fig, (ax1, ax2) = plt.subplots(1, 2, figsize=(7, 3), dpi=150)\n",
    "test_predictions = model.predict(X_test)\n",
    "\n",
    "# Scatter predicted vs true\n",
    "ax1.scatter(y_test, test_predictions, alpha=0.4)\n",
    "p1 = max(max(test_predictions), max(y_test))\n",
    "p2 = min(min(test_predictions), min(y_test))\n",
    "ax1.plot([p1, p2], [p1, p2], \"C1\")\n",
    "ax1.annotate(f\"$R^2$ = {r2:.3f}\", xy=(0.02 * delta, 0.95 * delta))\n",
    "ax1.annotate(f\"MAE = {mae:.2f}\", xy=(0.02 * delta, 0.85 * delta))\n",
    "ax1.annotate(f\"RMSE = {rmse:.2f}\", xy=(0.02 * delta, 0.75 * delta))\n",
    "ax1.set_xlabel(\"True f\")\n",
    "ax1.set_ylabel(\"Predicted f\")\n",
    "ax1.set_title(\"Predicted vs True\")\n",
    "\n",
    "# Loss curves\n",
    "ax2.plot(history['loss'], label='loss')\n",
    "ax2.plot(history['val_loss'], label='val_loss')\n",
    "ax2.set_yscale('log')\n",
    "ax2.set_xlabel('Epoch')\n",
    "ax2.set_ylabel('MAE')\n",
    "ax2.legend(frameon=False)\n",
    "ax2.set_title(\"Loss curves\")\n",
    "\n",
    "plt.tight_layout()\n",
    "plt.show()"
   ]
  },
  {
   "cell_type": "markdown",
   "id": "c127a38f",
   "metadata": {},
   "source": [
    "## Invariance detection\n",
    "This section performs feature grouping analysis using combinations of two features.\n",
    "\n",
    "The analysis aims to detect invariant groups of features in the form $x_i^{\\alpha_1} x_j^{\\alpha_2}$."
   ]
  },
  {
   "cell_type": "code",
   "execution_count": 18,
   "id": "6db2323e",
   "metadata": {},
   "outputs": [],
   "source": [
    "# Load the pre-trained model\n",
    "model = InvarianceModel(input_dim=5)\n",
    "model_filepath = './tmp/checkpoint_toy_couples.keras'\n",
    "model.load_model(model_filepath)"
   ]
  },
  {
   "cell_type": "code",
   "execution_count": 19,
   "id": "ef0a4aa0",
   "metadata": {},
   "outputs": [
    {
     "data": {
      "text/plain": [
       "['x', 'y', 'z', 'w', 'q']"
      ]
     },
     "execution_count": 19,
     "metadata": {},
     "output_type": "execute_result"
    }
   ],
   "source": [
    "# List of features\n",
    "feature_names = dataset.feature_names\n",
    "feature_names"
   ]
  },
  {
   "cell_type": "code",
   "execution_count": 20,
   "id": "4c8905f0",
   "metadata": {},
   "outputs": [],
   "source": [
    "detector = InvarianceDetector()"
   ]
  },
  {
   "cell_type": "code",
   "execution_count": 21,
   "id": "03daef18",
   "metadata": {},
   "outputs": [
    {
     "name": "stderr",
     "output_type": "stream",
     "text": [
      "100%|██████████| 10/10 [00:13<00:00,  1.39s/it]\n"
     ]
    }
   ],
   "source": [
    "res = detector.find_invariant_pairs(dataset, model, 0.5, -0.5, 'product')"
   ]
  },
  {
   "cell_type": "code",
   "execution_count": 22,
   "id": "8d0eb958",
   "metadata": {},
   "outputs": [
    {
     "name": "stdout",
     "output_type": "stream",
     "text": [
      "  feature_pair    mean_a     std_a    mean_b     std_b\n",
      "0       (x, y) -0.798060  0.051307 -0.597331  0.060521\n",
      "1       (x, z)  0.892730  0.079109 -0.028437  0.442681\n",
      "2       (x, w)  0.762626  0.027895 -0.645377  0.033353\n",
      "3       (x, q)  0.864027  0.025305 -0.501136  0.040984\n",
      "4       (y, z)  0.848669  0.074947 -0.033965  0.522485\n",
      "5       (y, w)  0.642876  0.090887 -0.757798  0.064752\n",
      "6       (y, q)  0.788501  0.028785 -0.613228  0.037261\n",
      "7       (z, w) -0.075215  0.510650 -0.847851  0.121356\n",
      "8       (z, q)  0.118563  0.663807 -0.725860  0.135760\n",
      "9       (w, q) -0.821060  0.028001 -0.568813  0.039094\n"
     ]
    }
   ],
   "source": [
    "print(res)"
   ]
  },
  {
   "cell_type": "code",
   "execution_count": null,
   "id": "147a5fc2",
   "metadata": {},
   "outputs": [],
   "source": [
    "detector.plot_results(figsize=(6,3), dpi=300)"
   ]
  }
 ],
 "metadata": {
  "kernelspec": {
   "display_name": "good_vars_env",
   "language": "python",
   "name": "python3"
  },
  "language_info": {
   "codemirror_mode": {
    "name": "ipython",
    "version": 3
   },
   "file_extension": ".py",
   "mimetype": "text/x-python",
   "name": "python",
   "nbconvert_exporter": "python",
   "pygments_lexer": "ipython3",
   "version": "3.10.15"
  }
 },
 "nbformat": 4,
 "nbformat_minor": 5
}
