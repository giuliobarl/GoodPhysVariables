{
 "cells": [
  {
   "cell_type": "markdown",
   "id": "b7a0292e",
   "metadata": {},
   "source": [
    "# Toy dataset with a single invariant triplet (x, y, z)\n",
    "Function: $f(x_1,x_2,x_3,x_4,x_5) = \\sin \\left(\\log(x_1^4) \\right) + \\cos(5 \\cdot x_2) + \\sqrt{\\frac{x_3^4 \\cdot x_4^3}{x_5^2}}$\n",
    "\n",
    "True invariant combination:\n",
    "- $u = x_3^4 \\cdot x_4^3 \\cdot x_5^{-2}$  (normalized exponents $\\alpha=0.743, \\, \\beta=0.557, \\, \\gamma=0.371$)"
   ]
  },
  {
   "cell_type": "code",
   "execution_count": 1,
   "id": "3c9888b2",
   "metadata": {},
   "outputs": [],
   "source": [
    "%load_ext autoreload\n",
    "%autoreload 2\n",
    "\n",
    "import matplotlib.pyplot as plt\n",
    "import numpy as np\n",
    "import pandas as pd\n",
    "import warnings\n",
    "\n",
    "import sys, os\n",
    "sys.path.append(os.path.abspath(os.path.join(os.getcwd(), \"../..\")))\n",
    "from Regression.dataset import InvarianceDataset\n",
    "from Regression.model import InvarianceModel\n",
    "from Regression.detector import InvarianceDetector\n",
    "\n",
    "warnings.filterwarnings(\"ignore\", category=DeprecationWarning)"
   ]
  },
  {
   "cell_type": "markdown",
   "id": "a8541e41",
   "metadata": {},
   "source": [
    "## Creates a noisy dataset and saves it."
   ]
  },
  {
   "cell_type": "code",
   "execution_count": 2,
   "id": "be575c67",
   "metadata": {},
   "outputs": [],
   "source": [
    "# reproducibility\n",
    "np.random.seed(0)\n",
    "\n",
    "def f_fun(x_1, x_2, x_3, x_4, x_5):\n",
    "    return np.sin(np.log(x_1**4)) + np.cos(5*x_2) + np.sqrt((x_3**4 * x_4**3)/(x_5**2))"
   ]
  },
  {
   "cell_type": "code",
   "execution_count": 3,
   "id": "4b2175b2",
   "metadata": {},
   "outputs": [],
   "source": [
    "# sampling\n",
    "N = 8000\n",
    "x = np.random.uniform(1.0, 2.0, size=N)\n",
    "y = np.random.uniform(0.5, 1.0, size=N)\n",
    "z = np.random.uniform(2.0, 5.0, size=N)\n",
    "w = np.random.uniform(3.0, 7.0, size=N)\n",
    "q = np.random.uniform(1.0, 3.0, size=N)\n",
    "\n",
    "# noiseless target\n",
    "f_clean = f_fun(x, y, z, w, q)"
   ]
  },
  {
   "cell_type": "code",
   "execution_count": 4,
   "id": "34d83796",
   "metadata": {},
   "outputs": [],
   "source": [
    "# add additive Gaussian noise scaled to a fraction of the std of f\n",
    "noise_frac = 0.05   # 10% of std(f)\n",
    "noise = np.random.normal(0.00, noise_frac * np.std(f_clean), size=N)\n",
    "f_noisy = f_clean + noise"
   ]
  },
  {
   "cell_type": "code",
   "execution_count": 5,
   "id": "7d5b5baf",
   "metadata": {},
   "outputs": [
    {
     "name": "stdout",
     "output_type": "stream",
     "text": [
      "Dataset has N = 8000, noise_frac = 0.05 (i.e. 5.0% of std(f)).\n"
     ]
    }
   ],
   "source": [
    "# build dataframe and include the true invariant for diagnostics\n",
    "df = pd.DataFrame({\n",
    "    \"x\": x,\n",
    "    \"y\": y,\n",
    "    \"z\": z,\n",
    "    \"w\": w,\n",
    "    \"q\": q,\n",
    "    \"f\": f_noisy\n",
    "})\n",
    "\n",
    "print(f\"Dataset has N = {N}, noise_frac = {noise_frac} (i.e. {noise_frac*100:.1f}% of std(f)).\")"
   ]
  },
  {
   "cell_type": "markdown",
   "id": "8caaa66c",
   "metadata": {},
   "source": [
    "### Save dataset if first time creating it"
   ]
  },
  {
   "cell_type": "code",
   "execution_count": 6,
   "id": "e3ea8721",
   "metadata": {},
   "outputs": [],
   "source": [
    "dataset = InvarianceDataset(df, \"f\")"
   ]
  },
  {
   "cell_type": "code",
   "execution_count": 7,
   "id": "06dbcfd3",
   "metadata": {},
   "outputs": [],
   "source": [
    "# save files for use in notebooks / examples\n",
    "csv_path = \"../../Data/toy_triplets_dataset.csv\"\n",
    "xlsx_path = \"../../Data/toy_triplets_dataset.xlsx\"\n",
    "try:\n",
    "    dataset.to_excel(xlsx_path)\n",
    "except Exception:   \n",
    "    # openpyxl might not be installed in some environments — ignore if save to excel fails\n",
    "    xlsx_path = None\n",
    "    dataset.to_csv(csv_path)"
   ]
  },
  {
   "cell_type": "markdown",
   "id": "5f5964b8",
   "metadata": {},
   "source": [
    "### Read dataset if already saved"
   ]
  },
  {
   "cell_type": "code",
   "execution_count": 8,
   "id": "20f33433",
   "metadata": {},
   "outputs": [],
   "source": [
    "csv_path = \"../../Data/toy_triplets_dataset.csv\"\n",
    "xlsx_path = \"../../Data/toy_triplets_dataset.xlsx\"\n",
    "try:\n",
    "    dataset = InvarianceDataset.from_excel(xlsx_path, 'f')\n",
    "except Exception:   \n",
    "    # openpyxl might not be installed in some environments — ignore if save to excel fails\n",
    "    xlsx_path = None\n",
    "    dataset = InvarianceDataset.from_csv(csv_path, 'f')"
   ]
  },
  {
   "cell_type": "code",
   "execution_count": 9,
   "id": "793ecb18",
   "metadata": {},
   "outputs": [
    {
     "name": "stdout",
     "output_type": "stream",
     "text": [
      "\n",
      "DataFrame summary (first 5 rows):\n",
      "\n",
      "          x         y         z         w         q          f\n",
      "0  1.548814  0.728880  3.186612  3.612785  1.732364  36.834948\n",
      "1  1.715189  0.688459  4.532052  3.131246  1.701277  65.175657\n",
      "2  1.602763  0.851168  2.451325  3.915181  1.804735  23.888829\n",
      "3  1.544883  0.603662  2.918928  4.996986  1.765485  53.766834\n",
      "4  1.423655  0.537140  2.283711  4.181557  2.209320  19.668338\n",
      "\n",
      "Descriptive statistics:\n",
      "\n",
      "                 x            y            z            w            q  \\\n",
      "count  8000.000000  8000.000000  8000.000000  8000.000000  8000.000000   \n",
      "mean      1.495549     0.746348     3.502402     4.999200     1.998878   \n",
      "std       0.289739     0.144385     0.878310     1.155851     0.573551   \n",
      "min       1.000072     0.500083     2.000692     3.001380     1.000750   \n",
      "25%       1.244534     0.622234     2.734352     3.988040     1.501738   \n",
      "50%       1.492803     0.744100     3.512538     5.012222     1.996113   \n",
      "75%       1.747077     0.872502     4.271929     5.995204     2.496773   \n",
      "max       1.999964     0.999989     4.999566     6.999675     2.999436   \n",
      "\n",
      "                 f  \n",
      "count  8000.000000  \n",
      "mean     81.352084  \n",
      "std      57.334284  \n",
      "min       2.253990  \n",
      "25%      39.360845  \n",
      "50%      66.045772  \n",
      "75%     108.299265  \n",
      "max     426.300068  \n"
     ]
    }
   ],
   "source": [
    "# show a quick summary and the head of the dataframe\n",
    "print(\"\\nDataFrame summary (first 5 rows):\\n\")\n",
    "print(dataset.head())\n",
    "\n",
    "# show descriptive statistics\n",
    "print(\"\\nDescriptive statistics:\\n\")\n",
    "print(dataset.summary())"
   ]
  },
  {
   "cell_type": "markdown",
   "id": "541b314f",
   "metadata": {},
   "source": [
    "## DNN model"
   ]
  },
  {
   "cell_type": "code",
   "execution_count": 10,
   "id": "f1afbde9",
   "metadata": {},
   "outputs": [],
   "source": [
    "X_train, X_test, y_train, y_test = dataset.train_test_split()"
   ]
  },
  {
   "cell_type": "code",
   "execution_count": 11,
   "id": "fcb66098",
   "metadata": {},
   "outputs": [],
   "source": [
    "# Initialize the DNN model\n",
    "model = InvarianceModel(input_dim=5)"
   ]
  },
  {
   "cell_type": "code",
   "execution_count": 12,
   "id": "76c1f5d7",
   "metadata": {},
   "outputs": [],
   "source": [
    "# Build and compile the DNN model\n",
    "model.build_and_compile(X_train)"
   ]
  },
  {
   "cell_type": "markdown",
   "id": "fc2057da",
   "metadata": {},
   "source": [
    "### Train the model if not saved already"
   ]
  },
  {
   "cell_type": "code",
   "execution_count": 13,
   "id": "08b73211",
   "metadata": {},
   "outputs": [
    {
     "name": "stdout",
     "output_type": "stream",
     "text": [
      "Epoch 1/200\n",
      "\u001b[1m181/181\u001b[0m \u001b[32m━━━━━━━━━━━━━━━━━━━━\u001b[0m\u001b[37m\u001b[0m \u001b[1m2s\u001b[0m 4ms/step - loss: 50.6868 - val_loss: 10.6437\n",
      "Epoch 2/200\n",
      "\u001b[1m181/181\u001b[0m \u001b[32m━━━━━━━━━━━━━━━━━━━━\u001b[0m\u001b[37m\u001b[0m \u001b[1m1s\u001b[0m 3ms/step - loss: 9.2259 - val_loss: 8.7366\n",
      "Epoch 3/200\n",
      "\u001b[1m181/181\u001b[0m \u001b[32m━━━━━━━━━━━━━━━━━━━━\u001b[0m\u001b[37m\u001b[0m \u001b[1m1s\u001b[0m 3ms/step - loss: 8.1797 - val_loss: 7.8770\n",
      "Epoch 4/200\n",
      "\u001b[1m181/181\u001b[0m \u001b[32m━━━━━━━━━━━━━━━━━━━━\u001b[0m\u001b[37m\u001b[0m \u001b[1m1s\u001b[0m 3ms/step - loss: 7.4975 - val_loss: 7.1954\n",
      "Epoch 5/200\n",
      "\u001b[1m181/181\u001b[0m \u001b[32m━━━━━━━━━━━━━━━━━━━━\u001b[0m\u001b[37m\u001b[0m \u001b[1m1s\u001b[0m 3ms/step - loss: 6.4733 - val_loss: 5.9908\n",
      "Epoch 6/200\n",
      "\u001b[1m181/181\u001b[0m \u001b[32m━━━━━━━━━━━━━━━━━━━━\u001b[0m\u001b[37m\u001b[0m \u001b[1m1s\u001b[0m 3ms/step - loss: 5.4851 - val_loss: 4.9168\n",
      "Epoch 7/200\n",
      "\u001b[1m181/181\u001b[0m \u001b[32m━━━━━━━━━━━━━━━━━━━━\u001b[0m\u001b[37m\u001b[0m \u001b[1m1s\u001b[0m 3ms/step - loss: 4.7794 - val_loss: 4.3409\n",
      "Epoch 8/200\n",
      "\u001b[1m181/181\u001b[0m \u001b[32m━━━━━━━━━━━━━━━━━━━━\u001b[0m\u001b[37m\u001b[0m \u001b[1m1s\u001b[0m 3ms/step - loss: 4.3905 - val_loss: 4.3510\n",
      "Epoch 9/200\n",
      "\u001b[1m181/181\u001b[0m \u001b[32m━━━━━━━━━━━━━━━━━━━━\u001b[0m\u001b[37m\u001b[0m \u001b[1m1s\u001b[0m 3ms/step - loss: 4.0808 - val_loss: 4.0110\n",
      "Epoch 10/200\n",
      "\u001b[1m181/181\u001b[0m \u001b[32m━━━━━━━━━━━━━━━━━━━━\u001b[0m\u001b[37m\u001b[0m \u001b[1m1s\u001b[0m 3ms/step - loss: 3.8822 - val_loss: 3.6721\n",
      "Epoch 11/200\n",
      "\u001b[1m181/181\u001b[0m \u001b[32m━━━━━━━━━━━━━━━━━━━━\u001b[0m\u001b[37m\u001b[0m \u001b[1m1s\u001b[0m 3ms/step - loss: 3.7104 - val_loss: 3.5043\n",
      "Epoch 12/200\n",
      "\u001b[1m181/181\u001b[0m \u001b[32m━━━━━━━━━━━━━━━━━━━━\u001b[0m\u001b[37m\u001b[0m \u001b[1m1s\u001b[0m 3ms/step - loss: 3.5435 - val_loss: 3.3422\n",
      "Epoch 13/200\n",
      "\u001b[1m181/181\u001b[0m \u001b[32m━━━━━━━━━━━━━━━━━━━━\u001b[0m\u001b[37m\u001b[0m \u001b[1m1s\u001b[0m 3ms/step - loss: 3.4474 - val_loss: 3.3413\n",
      "Epoch 14/200\n",
      "\u001b[1m181/181\u001b[0m \u001b[32m━━━━━━━━━━━━━━━━━━━━\u001b[0m\u001b[37m\u001b[0m \u001b[1m1s\u001b[0m 3ms/step - loss: 3.3409 - val_loss: 3.2597\n",
      "Epoch 15/200\n",
      "\u001b[1m181/181\u001b[0m \u001b[32m━━━━━━━━━━━━━━━━━━━━\u001b[0m\u001b[37m\u001b[0m \u001b[1m1s\u001b[0m 3ms/step - loss: 3.2570 - val_loss: 3.2145\n",
      "Epoch 16/200\n",
      "\u001b[1m181/181\u001b[0m \u001b[32m━━━━━━━━━━━━━━━━━━━━\u001b[0m\u001b[37m\u001b[0m \u001b[1m1s\u001b[0m 4ms/step - loss: 3.2050 - val_loss: 3.2053\n",
      "Epoch 17/200\n",
      "\u001b[1m181/181\u001b[0m \u001b[32m━━━━━━━━━━━━━━━━━━━━\u001b[0m\u001b[37m\u001b[0m \u001b[1m1s\u001b[0m 3ms/step - loss: 3.0874 - val_loss: 2.9518\n",
      "Epoch 18/200\n",
      "\u001b[1m181/181\u001b[0m \u001b[32m━━━━━━━━━━━━━━━━━━━━\u001b[0m\u001b[37m\u001b[0m \u001b[1m1s\u001b[0m 3ms/step - loss: 3.0399 - val_loss: 3.0648\n",
      "Epoch 19/200\n",
      "\u001b[1m181/181\u001b[0m \u001b[32m━━━━━━━━━━━━━━━━━━━━\u001b[0m\u001b[37m\u001b[0m \u001b[1m1s\u001b[0m 3ms/step - loss: 3.0276 - val_loss: 3.0671\n",
      "Epoch 20/200\n",
      "\u001b[1m181/181\u001b[0m \u001b[32m━━━━━━━━━━━━━━━━━━━━\u001b[0m\u001b[37m\u001b[0m \u001b[1m1s\u001b[0m 3ms/step - loss: 2.9647 - val_loss: 2.8960\n",
      "Epoch 21/200\n",
      "\u001b[1m181/181\u001b[0m \u001b[32m━━━━━━━━━━━━━━━━━━━━\u001b[0m\u001b[37m\u001b[0m \u001b[1m1s\u001b[0m 3ms/step - loss: 2.9233 - val_loss: 2.9675\n",
      "Epoch 22/200\n",
      "\u001b[1m181/181\u001b[0m \u001b[32m━━━━━━━━━━━━━━━━━━━━\u001b[0m\u001b[37m\u001b[0m \u001b[1m1s\u001b[0m 3ms/step - loss: 2.8534 - val_loss: 2.8004\n",
      "Epoch 23/200\n",
      "\u001b[1m181/181\u001b[0m \u001b[32m━━━━━━━━━━━━━━━━━━━━\u001b[0m\u001b[37m\u001b[0m \u001b[1m1s\u001b[0m 3ms/step - loss: 2.8542 - val_loss: 2.8264\n",
      "Epoch 24/200\n",
      "\u001b[1m181/181\u001b[0m \u001b[32m━━━━━━━━━━━━━━━━━━━━\u001b[0m\u001b[37m\u001b[0m \u001b[1m1s\u001b[0m 3ms/step - loss: 2.8108 - val_loss: 2.7908\n",
      "Epoch 25/200\n",
      "\u001b[1m181/181\u001b[0m \u001b[32m━━━━━━━━━━━━━━━━━━━━\u001b[0m\u001b[37m\u001b[0m \u001b[1m1s\u001b[0m 3ms/step - loss: 2.7825 - val_loss: 2.8431\n",
      "Epoch 26/200\n",
      "\u001b[1m181/181\u001b[0m \u001b[32m━━━━━━━━━━━━━━━━━━━━\u001b[0m\u001b[37m\u001b[0m \u001b[1m1s\u001b[0m 3ms/step - loss: 2.8254 - val_loss: 2.7589\n",
      "Epoch 27/200\n",
      "\u001b[1m181/181\u001b[0m \u001b[32m━━━━━━━━━━━━━━━━━━━━\u001b[0m\u001b[37m\u001b[0m \u001b[1m1s\u001b[0m 3ms/step - loss: 2.7338 - val_loss: 2.7444\n",
      "Epoch 28/200\n",
      "\u001b[1m181/181\u001b[0m \u001b[32m━━━━━━━━━━━━━━━━━━━━\u001b[0m\u001b[37m\u001b[0m \u001b[1m1s\u001b[0m 3ms/step - loss: 2.7413 - val_loss: 2.7174\n",
      "Epoch 29/200\n",
      "\u001b[1m181/181\u001b[0m \u001b[32m━━━━━━━━━━━━━━━━━━━━\u001b[0m\u001b[37m\u001b[0m \u001b[1m1s\u001b[0m 3ms/step - loss: 2.7159 - val_loss: 2.7552\n",
      "Epoch 30/200\n",
      "\u001b[1m181/181\u001b[0m \u001b[32m━━━━━━━━━━━━━━━━━━━━\u001b[0m\u001b[37m\u001b[0m \u001b[1m1s\u001b[0m 3ms/step - loss: 2.6931 - val_loss: 2.7203\n",
      "Epoch 31/200\n",
      "\u001b[1m181/181\u001b[0m \u001b[32m━━━━━━━━━━━━━━━━━━━━\u001b[0m\u001b[37m\u001b[0m \u001b[1m1s\u001b[0m 3ms/step - loss: 2.6797 - val_loss: 2.6279\n",
      "Epoch 32/200\n",
      "\u001b[1m181/181\u001b[0m \u001b[32m━━━━━━━━━━━━━━━━━━━━\u001b[0m\u001b[37m\u001b[0m \u001b[1m1s\u001b[0m 3ms/step - loss: 2.6651 - val_loss: 2.6752\n",
      "Epoch 33/200\n",
      "\u001b[1m181/181\u001b[0m \u001b[32m━━━━━━━━━━━━━━━━━━━━\u001b[0m\u001b[37m\u001b[0m \u001b[1m1s\u001b[0m 3ms/step - loss: 2.6649 - val_loss: 2.7057\n",
      "Epoch 34/200\n",
      "\u001b[1m181/181\u001b[0m \u001b[32m━━━━━━━━━━━━━━━━━━━━\u001b[0m\u001b[37m\u001b[0m \u001b[1m1s\u001b[0m 3ms/step - loss: 2.6621 - val_loss: 2.6859\n",
      "Epoch 35/200\n",
      "\u001b[1m181/181\u001b[0m \u001b[32m━━━━━━━━━━━━━━━━━━━━\u001b[0m\u001b[37m\u001b[0m \u001b[1m1s\u001b[0m 3ms/step - loss: 2.6201 - val_loss: 2.7848\n",
      "Epoch 36/200\n",
      "\u001b[1m181/181\u001b[0m \u001b[32m━━━━━━━━━━━━━━━━━━━━\u001b[0m\u001b[37m\u001b[0m \u001b[1m1s\u001b[0m 3ms/step - loss: 2.5939 - val_loss: 2.6565\n",
      "Epoch 37/200\n",
      "\u001b[1m181/181\u001b[0m \u001b[32m━━━━━━━━━━━━━━━━━━━━\u001b[0m\u001b[37m\u001b[0m \u001b[1m1s\u001b[0m 3ms/step - loss: 2.5829 - val_loss: 2.6178\n",
      "Epoch 38/200\n",
      "\u001b[1m181/181\u001b[0m \u001b[32m━━━━━━━━━━━━━━━━━━━━\u001b[0m\u001b[37m\u001b[0m \u001b[1m1s\u001b[0m 3ms/step - loss: 2.6201 - val_loss: 2.7612\n",
      "Epoch 39/200\n",
      "\u001b[1m181/181\u001b[0m \u001b[32m━━━━━━━━━━━━━━━━━━━━\u001b[0m\u001b[37m\u001b[0m \u001b[1m1s\u001b[0m 3ms/step - loss: 2.6210 - val_loss: 2.7415\n",
      "Epoch 40/200\n",
      "\u001b[1m181/181\u001b[0m \u001b[32m━━━━━━━━━━━━━━━━━━━━\u001b[0m\u001b[37m\u001b[0m \u001b[1m1s\u001b[0m 3ms/step - loss: 2.5854 - val_loss: 2.8741\n",
      "Epoch 41/200\n",
      "\u001b[1m181/181\u001b[0m \u001b[32m━━━━━━━━━━━━━━━━━━━━\u001b[0m\u001b[37m\u001b[0m \u001b[1m1s\u001b[0m 3ms/step - loss: 2.5733 - val_loss: 2.5314\n",
      "Epoch 42/200\n",
      "\u001b[1m181/181\u001b[0m \u001b[32m━━━━━━━━━━━━━━━━━━━━\u001b[0m\u001b[37m\u001b[0m \u001b[1m1s\u001b[0m 3ms/step - loss: 2.5549 - val_loss: 2.6203\n",
      "Epoch 43/200\n",
      "\u001b[1m181/181\u001b[0m \u001b[32m━━━━━━━━━━━━━━━━━━━━\u001b[0m\u001b[37m\u001b[0m \u001b[1m1s\u001b[0m 3ms/step - loss: 2.5544 - val_loss: 2.9498\n",
      "Epoch 44/200\n",
      "\u001b[1m181/181\u001b[0m \u001b[32m━━━━━━━━━━━━━━━━━━━━\u001b[0m\u001b[37m\u001b[0m \u001b[1m1s\u001b[0m 3ms/step - loss: 2.5772 - val_loss: 2.5414\n",
      "Epoch 45/200\n",
      "\u001b[1m181/181\u001b[0m \u001b[32m━━━━━━━━━━━━━━━━━━━━\u001b[0m\u001b[37m\u001b[0m \u001b[1m1s\u001b[0m 3ms/step - loss: 2.5188 - val_loss: 2.6105\n",
      "Epoch 46/200\n",
      "\u001b[1m181/181\u001b[0m \u001b[32m━━━━━━━━━━━━━━━━━━━━\u001b[0m\u001b[37m\u001b[0m \u001b[1m1s\u001b[0m 3ms/step - loss: 2.5531 - val_loss: 2.7192\n",
      "Epoch 47/200\n",
      "\u001b[1m181/181\u001b[0m \u001b[32m━━━━━━━━━━━━━━━━━━━━\u001b[0m\u001b[37m\u001b[0m \u001b[1m1s\u001b[0m 3ms/step - loss: 2.5532 - val_loss: 2.5402\n",
      "Epoch 48/200\n",
      "\u001b[1m181/181\u001b[0m \u001b[32m━━━━━━━━━━━━━━━━━━━━\u001b[0m\u001b[37m\u001b[0m \u001b[1m1s\u001b[0m 3ms/step - loss: 2.5090 - val_loss: 2.5132\n",
      "Epoch 49/200\n",
      "\u001b[1m181/181\u001b[0m \u001b[32m━━━━━━━━━━━━━━━━━━━━\u001b[0m\u001b[37m\u001b[0m \u001b[1m1s\u001b[0m 3ms/step - loss: 2.4867 - val_loss: 2.4857\n",
      "Epoch 50/200\n",
      "\u001b[1m181/181\u001b[0m \u001b[32m━━━━━━━━━━━━━━━━━━━━\u001b[0m\u001b[37m\u001b[0m \u001b[1m1s\u001b[0m 3ms/step - loss: 2.4827 - val_loss: 2.5685\n",
      "Epoch 51/200\n",
      "\u001b[1m181/181\u001b[0m \u001b[32m━━━━━━━━━━━━━━━━━━━━\u001b[0m\u001b[37m\u001b[0m \u001b[1m1s\u001b[0m 3ms/step - loss: 2.4827 - val_loss: 2.5372\n",
      "Epoch 52/200\n",
      "\u001b[1m181/181\u001b[0m \u001b[32m━━━━━━━━━━━━━━━━━━━━\u001b[0m\u001b[37m\u001b[0m \u001b[1m1s\u001b[0m 3ms/step - loss: 2.5152 - val_loss: 2.7357\n",
      "Epoch 53/200\n",
      "\u001b[1m181/181\u001b[0m \u001b[32m━━━━━━━━━━━━━━━━━━━━\u001b[0m\u001b[37m\u001b[0m \u001b[1m1s\u001b[0m 3ms/step - loss: 2.4833 - val_loss: 2.5312\n",
      "Epoch 54/200\n",
      "\u001b[1m181/181\u001b[0m \u001b[32m━━━━━━━━━━━━━━━━━━━━\u001b[0m\u001b[37m\u001b[0m \u001b[1m1s\u001b[0m 3ms/step - loss: 2.4410 - val_loss: 2.5572\n",
      "Epoch 55/200\n",
      "\u001b[1m181/181\u001b[0m \u001b[32m━━━━━━━━━━━━━━━━━━━━\u001b[0m\u001b[37m\u001b[0m \u001b[1m1s\u001b[0m 3ms/step - loss: 2.5590 - val_loss: 2.6749\n",
      "Epoch 56/200\n",
      "\u001b[1m181/181\u001b[0m \u001b[32m━━━━━━━━━━━━━━━━━━━━\u001b[0m\u001b[37m\u001b[0m \u001b[1m1s\u001b[0m 3ms/step - loss: 2.4617 - val_loss: 2.6022\n",
      "Epoch 57/200\n",
      "\u001b[1m181/181\u001b[0m \u001b[32m━━━━━━━━━━━━━━━━━━━━\u001b[0m\u001b[37m\u001b[0m \u001b[1m1s\u001b[0m 3ms/step - loss: 2.4846 - val_loss: 2.7450\n",
      "Epoch 58/200\n",
      "\u001b[1m181/181\u001b[0m \u001b[32m━━━━━━━━━━━━━━━━━━━━\u001b[0m\u001b[37m\u001b[0m \u001b[1m1s\u001b[0m 3ms/step - loss: 2.4892 - val_loss: 2.6649\n",
      "Epoch 59/200\n",
      "\u001b[1m181/181\u001b[0m \u001b[32m━━━━━━━━━━━━━━━━━━━━\u001b[0m\u001b[37m\u001b[0m \u001b[1m1s\u001b[0m 3ms/step - loss: 2.5448 - val_loss: 2.7334\n",
      "Epoch 60/200\n",
      "\u001b[1m181/181\u001b[0m \u001b[32m━━━━━━━━━━━━━━━━━━━━\u001b[0m\u001b[37m\u001b[0m \u001b[1m1s\u001b[0m 3ms/step - loss: 2.4682 - val_loss: 2.5458\n",
      "Epoch 61/200\n",
      "\u001b[1m181/181\u001b[0m \u001b[32m━━━━━━━━━━━━━━━━━━━━\u001b[0m\u001b[37m\u001b[0m \u001b[1m1s\u001b[0m 3ms/step - loss: 2.4704 - val_loss: 2.5402\n",
      "Epoch 62/200\n",
      "\u001b[1m181/181\u001b[0m \u001b[32m━━━━━━━━━━━━━━━━━━━━\u001b[0m\u001b[37m\u001b[0m \u001b[1m1s\u001b[0m 3ms/step - loss: 2.4349 - val_loss: 2.5497\n",
      "Epoch 63/200\n",
      "\u001b[1m181/181\u001b[0m \u001b[32m━━━━━━━━━━━━━━━━━━━━\u001b[0m\u001b[37m\u001b[0m \u001b[1m1s\u001b[0m 3ms/step - loss: 2.4400 - val_loss: 2.6971\n",
      "Epoch 64/200\n",
      "\u001b[1m181/181\u001b[0m \u001b[32m━━━━━━━━━━━━━━━━━━━━\u001b[0m\u001b[37m\u001b[0m \u001b[1m1s\u001b[0m 3ms/step - loss: 2.4526 - val_loss: 2.6590\n",
      "Epoch 65/200\n",
      "\u001b[1m181/181\u001b[0m \u001b[32m━━━━━━━━━━━━━━━━━━━━\u001b[0m\u001b[37m\u001b[0m \u001b[1m1s\u001b[0m 3ms/step - loss: 2.4742 - val_loss: 2.5732\n",
      "Epoch 66/200\n",
      "\u001b[1m181/181\u001b[0m \u001b[32m━━━━━━━━━━━━━━━━━━━━\u001b[0m\u001b[37m\u001b[0m \u001b[1m1s\u001b[0m 3ms/step - loss: 2.4778 - val_loss: 2.5282\n",
      "Epoch 67/200\n",
      "\u001b[1m181/181\u001b[0m \u001b[32m━━━━━━━━━━━━━━━━━━━━\u001b[0m\u001b[37m\u001b[0m \u001b[1m1s\u001b[0m 3ms/step - loss: 2.4529 - val_loss: 2.5096\n",
      "Epoch 68/200\n",
      "\u001b[1m181/181\u001b[0m \u001b[32m━━━━━━━━━━━━━━━━━━━━\u001b[0m\u001b[37m\u001b[0m \u001b[1m1s\u001b[0m 3ms/step - loss: 2.4685 - val_loss: 2.5830\n",
      "Epoch 69/200\n",
      "\u001b[1m181/181\u001b[0m \u001b[32m━━━━━━━━━━━━━━━━━━━━\u001b[0m\u001b[37m\u001b[0m \u001b[1m1s\u001b[0m 3ms/step - loss: 2.4210 - val_loss: 2.5748\n"
     ]
    }
   ],
   "source": [
    "# Train the model\n",
    "checkpoint_filepath = './tmp/checkpoint_toy_triplets.weights.h5'\n",
    "model_filepath = './tmp/checkpoint_toy_triplets.keras'\n",
    "model.train(X_train, y_train, checkpoint_path=checkpoint_filepath, model_path=model_filepath)"
   ]
  },
  {
   "cell_type": "code",
   "execution_count": 14,
   "id": "bfbbddcb",
   "metadata": {},
   "outputs": [],
   "source": [
    "# Save training history\n",
    "history_filepath = './tmp/checkpoint_toy_triplets.pkl'\n",
    "model.save_history(history_filepath)"
   ]
  },
  {
   "cell_type": "markdown",
   "id": "0cc3ac2c",
   "metadata": {},
   "source": [
    "### Otherwise, load trained model"
   ]
  },
  {
   "cell_type": "code",
   "execution_count": 15,
   "id": "06603c6c",
   "metadata": {},
   "outputs": [],
   "source": [
    "# Reload model and history\n",
    "history_filepath = './tmp/checkpoint_toy_triplets.pkl'\n",
    "history = model.load_history(history_filepath)\n",
    "\n",
    "model_filepath = './tmp/checkpoint_toy_triplets.keras'\n",
    "model.load_model(model_filepath)"
   ]
  },
  {
   "cell_type": "markdown",
   "id": "c759a2fc",
   "metadata": {},
   "source": [
    "### Model metrics"
   ]
  },
  {
   "cell_type": "code",
   "execution_count": 16,
   "id": "8819b5fe",
   "metadata": {},
   "outputs": [
    {
     "name": "stdout",
     "output_type": "stream",
     "text": [
      "\u001b[1m38/38\u001b[0m \u001b[32m━━━━━━━━━━━━━━━━━━━━\u001b[0m\u001b[37m\u001b[0m \u001b[1m0s\u001b[0m 5ms/step\n",
      "R² = 0.997\n",
      "MAE = 2.563\n",
      "RMSE = 3.248\n"
     ]
    }
   ],
   "source": [
    "# Evaluate on test set\n",
    "r2, mae, rmse = model.evaluate(X_test, y_test)\n",
    "\n",
    "print(f\"R² = {r2:.3f}\")\n",
    "print(f\"MAE = {mae:.3f}\")\n",
    "print(f\"RMSE = {rmse:.3f}\")"
   ]
  },
  {
   "cell_type": "code",
   "execution_count": 17,
   "id": "ed7dd88e",
   "metadata": {},
   "outputs": [
    {
     "name": "stdout",
     "output_type": "stream",
     "text": [
      "\u001b[1m38/38\u001b[0m \u001b[32m━━━━━━━━━━━━━━━━━━━━\u001b[0m\u001b[37m\u001b[0m \u001b[1m0s\u001b[0m 3ms/step\n"
     ]
    },
    {
     "data": {
      "image/png": "[encoded data removed]",
      "text/plain": [
       "<Figure size 1050x450 with 2 Axes>"
      ]
     },
     "metadata": {},
     "output_type": "display_data"
    }
   ],
   "source": [
    "delta = max(y_test) - min(y_test)\n",
    "fig, (ax1, ax2) = plt.subplots(1, 2, figsize=(7, 3), dpi=150)\n",
    "test_predictions = model.predict(X_test)\n",
    "\n",
    "# Scatter predicted vs true\n",
    "ax1.scatter(y_test, test_predictions, alpha=0.4)\n",
    "p1 = max(max(test_predictions), max(y_test))\n",
    "p2 = min(min(test_predictions), min(y_test))\n",
    "ax1.plot([p1, p2], [p1, p2], \"C1\")\n",
    "ax1.annotate(f\"$R^2$ = {r2:.3f}\", xy=(0.02 * delta, 0.95 * delta))\n",
    "ax1.annotate(f\"MAE = {mae:.2f}\", xy=(0.02 * delta, 0.85 * delta))\n",
    "ax1.annotate(f\"RMSE = {rmse:.2f}\", xy=(0.02 * delta, 0.75 * delta))\n",
    "ax1.set_xlabel(\"True f\")\n",
    "ax1.set_ylabel(\"Predicted f\")\n",
    "ax1.set_title(\"Predicted vs True\")\n",
    "\n",
    "# Loss curves\n",
    "ax2.plot(history['loss'], label='loss')\n",
    "ax2.plot(history['val_loss'], label='val_loss')\n",
    "ax2.set_yscale('log')\n",
    "ax2.set_xlabel('Epoch')\n",
    "ax2.set_ylabel('MAE')\n",
    "ax2.legend(frameon=False)\n",
    "ax2.set_title(\"Loss curves\")\n",
    "\n",
    "plt.tight_layout()\n",
    "plt.show()"
   ]
  },
  {
   "cell_type": "markdown",
   "id": "c127a38f",
   "metadata": {},
   "source": [
    "## Invariance detection\n",
    "This section performs feature grouping analysis using combinations of two features.\n",
    "\n",
    "The analysis aims to detect invariant groups of features in the form $x_i^{\\alpha_1} x_j^{\\alpha_2}$."
   ]
  },
  {
   "cell_type": "code",
   "execution_count": 18,
   "id": "6db2323e",
   "metadata": {},
   "outputs": [],
   "source": [
    "# Load the pre-trained model\n",
    "model = InvarianceModel(input_dim=5)\n",
    "model_filepath = './tmp/checkpoint_toy_triplets.keras'\n",
    "model.load_model(model_filepath)"
   ]
  },
  {
   "cell_type": "code",
   "execution_count": 19,
   "id": "ef0a4aa0",
   "metadata": {},
   "outputs": [
    {
     "data": {
      "text/plain": [
       "['x', 'y', 'z', 'w', 'q']"
      ]
     },
     "execution_count": 19,
     "metadata": {},
     "output_type": "execute_result"
    }
   ],
   "source": [
    "# List of features\n",
    "feature_names = dataset.feature_names\n",
    "feature_names"
   ]
  },
  {
   "cell_type": "code",
   "execution_count": 41,
   "id": "4c8905f0",
   "metadata": {},
   "outputs": [],
   "source": [
    "detector = InvarianceDetector()"
   ]
  },
  {
   "cell_type": "code",
   "execution_count": 51,
   "id": "03daef18",
   "metadata": {},
   "outputs": [
    {
     "name": "stderr",
     "output_type": "stream",
     "text": [
      "100%|██████████| 10/10 [00:24<00:00,  2.42s/it]\n"
     ]
    }
   ],
   "source": [
    "res = detector.find_invariant_triplets(dataset, model, [0.5, 0.5, -0.5], mode='product')"
   ]
  },
  {
   "cell_type": "code",
   "execution_count": 52,
   "id": "8d0eb958",
   "metadata": {},
   "outputs": [
    {
     "name": "stdout",
     "output_type": "stream",
     "text": [
      "  feature_triplet    mean_a     std_a    mean_b     std_b    mean_c     std_c\n",
      "0       (x, y, z) -0.024313  0.087764 -0.026010  0.061821 -0.993560  0.006810\n",
      "1       (x, y, w) -0.050360  0.083802 -0.015134  0.086120 -0.991329  0.007924\n",
      "2       (x, y, q)  0.001164  0.128989  0.050356  0.100704 -0.985057  0.018625\n",
      "3       (x, z, w)  0.021294  0.053668  0.805274  0.034957  0.587065  0.048300\n",
      "4       (x, z, q) -0.007591  0.078429  0.882122  0.027784 -0.460694  0.051398\n",
      "5       (x, w, q) -0.034871  0.073350  0.816664  0.024280 -0.569460  0.039869\n",
      "6       (y, z, w)  0.051322  0.083754  0.786892  0.066696  0.600679  0.076735\n",
      "7       (y, z, q)  0.027510  0.057476  0.887936  0.028469 -0.451984  0.049085\n",
      "8       (y, w, q)  0.031578  0.068391  0.830386  0.024414 -0.550476  0.034126\n",
      "9       (z, w, q)  0.749726  0.041526  0.548242  0.048762 -0.362964  0.038678\n"
     ]
    }
   ],
   "source": [
    "print(res)"
   ]
  },
  {
   "cell_type": "markdown",
   "id": "89cbb670",
   "metadata": {},
   "source": [
    "Notice how it also found the pairs inside the triplet (i.e., $(z, w), (z, q), (w, q)$)!"
   ]
  },
  {
   "cell_type": "code",
   "execution_count": null,
   "id": "147a5fc2",
   "metadata": {},
   "outputs": [],
   "source": [
    "detector.plot_results(figsize=(6,3), dpi=200)"
   ]
  }
 ],
 "metadata": {
  "kernelspec": {
   "display_name": "good_vars_env",
   "language": "python",
   "name": "python3"
  },
  "language_info": {
   "codemirror_mode": {
    "name": "ipython",
    "version": 3
   },
   "file_extension": ".py",
   "mimetype": "text/x-python",
   "name": "python",
   "nbconvert_exporter": "python",
   "pygments_lexer": "ipython3",
   "version": "3.10.15"
  }
 },
 "nbformat": 4,
 "nbformat_minor": 5
}
