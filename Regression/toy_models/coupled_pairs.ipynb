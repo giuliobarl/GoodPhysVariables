{
 "cells": [
  {
   "cell_type": "markdown",
   "id": "b7a0292e",
   "metadata": {},
   "source": [
    "# Toy dataset with two coupled invariant pairs [(x, y), (x, z)]\n",
    "Function: $f(x_1,x_2,x_3,x_4) = \\left(x_1^4 \\cdot x_2^3 \\right) + \\log(5 x_1^2 \\cdot x_3) + \\sqrt{x_4^3}$\n",
    "\n",
    "True invariant combination:\n",
    "- $[u, v] = \\left[ x_1^4 \\cdot x_2^3, x_1^2 \\cdot x_3 \\right]$ (normalized exponents $\\alpha=0.8, \\, \\beta=0.6, \\, \\gamma=0.894, \\, \\delta=0.447$)"
   ]
  },
  {
   "cell_type": "code",
   "execution_count": 1,
   "id": "3c9888b2",
   "metadata": {},
   "outputs": [],
   "source": [
    "%load_ext autoreload\n",
    "%autoreload 2\n",
    "\n",
    "import matplotlib.pyplot as plt\n",
    "import numpy as np\n",
    "import pandas as pd\n",
    "import warnings\n",
    "\n",
    "import sys, os\n",
    "sys.path.append(os.path.abspath(os.path.join(os.getcwd(), \"../..\")))\n",
    "from Regression.dataset import InvarianceDataset\n",
    "from Regression.model import InvarianceModel\n",
    "from Regression.detector import InvarianceDetector\n",
    "\n",
    "warnings.filterwarnings(\"ignore\", category=DeprecationWarning)"
   ]
  },
  {
   "cell_type": "markdown",
   "id": "a8541e41",
   "metadata": {},
   "source": [
    "## Creates a noisy dataset and saves it."
   ]
  },
  {
   "cell_type": "code",
   "execution_count": 2,
   "id": "be575c67",
   "metadata": {},
   "outputs": [],
   "source": [
    "# reproducibility\n",
    "np.random.seed(0)\n",
    "\n",
    "def f_fun(x_1, x_2, x_3, x_4):\n",
    "    return x_1**4 * x_2**3 + np.log(5 * x_1**2 * x_3) + np.sqrt(x_4**3)"
   ]
  },
  {
   "cell_type": "code",
   "execution_count": 3,
   "id": "4b2175b2",
   "metadata": {},
   "outputs": [],
   "source": [
    "# sampling\n",
    "N = 8000\n",
    "x = np.random.uniform(1.0, 2.0, size=N)\n",
    "y = np.random.uniform(0.5, 1.0, size=N)\n",
    "z = np.random.uniform(2.0, 5.0, size=N)\n",
    "w = np.random.uniform(3.0, 7.0, size=N)\n",
    "\n",
    "# noiseless target\n",
    "f_clean = f_fun(x, y, z, w)"
   ]
  },
  {
   "cell_type": "code",
   "execution_count": 4,
   "id": "34d83796",
   "metadata": {},
   "outputs": [],
   "source": [
    "# add additive Gaussian noise scaled to a fraction of the std of f\n",
    "noise_frac = 0.05   # 10% of std(f)\n",
    "noise = np.random.normal(0.00, noise_frac * np.std(f_clean), size=N)\n",
    "f_noisy = f_clean + noise"
   ]
  },
  {
   "cell_type": "code",
   "execution_count": 5,
   "id": "7d5b5baf",
   "metadata": {},
   "outputs": [
    {
     "name": "stdout",
     "output_type": "stream",
     "text": [
      "Dataset has N = 8000, noise_frac = 0.05 (i.e. 5.0% of std(f)).\n"
     ]
    }
   ],
   "source": [
    "# build dataframe and include the true invariant for diagnostics\n",
    "df = pd.DataFrame({\n",
    "    \"x\": x,\n",
    "    \"y\": y,\n",
    "    \"z\": z,\n",
    "    \"w\": w,\n",
    "    \"f\": f_noisy\n",
    "})\n",
    "\n",
    "print(f\"Dataset has N = {N}, noise_frac = {noise_frac} (i.e. {noise_frac*100:.1f}% of std(f)).\")"
   ]
  },
  {
   "cell_type": "markdown",
   "id": "8caaa66c",
   "metadata": {},
   "source": [
    "### Save dataset if first time creating it"
   ]
  },
  {
   "cell_type": "code",
   "execution_count": 6,
   "id": "e3ea8721",
   "metadata": {},
   "outputs": [],
   "source": [
    "dataset = InvarianceDataset(df, \"f\")"
   ]
  },
  {
   "cell_type": "code",
   "execution_count": 7,
   "id": "06dbcfd3",
   "metadata": {},
   "outputs": [],
   "source": [
    "# save files for use in notebooks / examples\n",
    "csv_path = \"../../Data/toy_coupled_pairs_dataset.csv\"\n",
    "xlsx_path = \"../../Data/toy_coupled_pairs_dataset.xlsx\"\n",
    "try:\n",
    "    dataset.to_excel(xlsx_path)\n",
    "except Exception:   \n",
    "    # openpyxl might not be installed in some environments — ignore if save to excel fails\n",
    "    xlsx_path = None\n",
    "    dataset.to_csv(csv_path)"
   ]
  },
  {
   "cell_type": "markdown",
   "id": "5f5964b8",
   "metadata": {},
   "source": [
    "### Read dataset if already saved"
   ]
  },
  {
   "cell_type": "code",
   "execution_count": 8,
   "id": "20f33433",
   "metadata": {},
   "outputs": [],
   "source": [
    "csv_path = \"../../Data/toy_coupled_pairs_dataset.csv\"\n",
    "xlsx_path = \"../../Data/toy_coupled_pairs_dataset.xlsx\"\n",
    "try:\n",
    "    dataset = InvarianceDataset.from_excel(xlsx_path, 'f')\n",
    "except Exception:   \n",
    "    # openpyxl might not be installed in some environments — ignore if save to excel fails\n",
    "    xlsx_path = None\n",
    "    dataset = InvarianceDataset.from_csv(csv_path, 'f')"
   ]
  },
  {
   "cell_type": "code",
   "execution_count": 9,
   "id": "793ecb18",
   "metadata": {},
   "outputs": [
    {
     "name": "stdout",
     "output_type": "stream",
     "text": [
      "\n",
      "DataFrame summary (first 5 rows):\n",
      "\n",
      "          x         y         z         w          f\n",
      "0  1.548814  0.728880  3.186612  3.612785  12.387090\n",
      "1  1.715189  0.688459  4.532052  3.131246  12.249720\n",
      "2  1.602763  0.851168  2.451325  3.915181  14.852398\n",
      "3  1.544883  0.603662  2.918928  4.996986  15.629648\n",
      "4  1.423655  0.537140  2.283711  4.181557  11.983243\n",
      "\n",
      "Descriptive statistics:\n",
      "\n",
      "                 x            y            z            w            f\n",
      "count  8000.000000  8000.000000  8000.000000  8000.000000  8000.000000\n",
      "mean      1.495549     0.746348     3.502402     4.999200    17.856110\n",
      "std       0.289739     0.144385     0.878310     1.155851     4.944873\n",
      "min       1.000072     0.500083     2.000692     3.001380     7.790285\n",
      "25%       1.244534     0.622234     2.734352     3.988040    13.979841\n",
      "50%       1.492803     0.744100     3.512538     5.012222    17.585684\n",
      "75%       1.747077     0.872502     4.271929     5.995204    21.185017\n",
      "max       1.999964     0.999989     4.999566     6.999675    35.115023\n"
     ]
    }
   ],
   "source": [
    "# show a quick summary and the head of the dataframe\n",
    "print(\"\\nDataFrame summary (first 5 rows):\\n\")\n",
    "print(dataset.head())\n",
    "\n",
    "# show descriptive statistics\n",
    "print(\"\\nDescriptive statistics:\\n\")\n",
    "print(dataset.summary())"
   ]
  },
  {
   "cell_type": "markdown",
   "id": "541b314f",
   "metadata": {},
   "source": [
    "## DNN model"
   ]
  },
  {
   "cell_type": "code",
   "execution_count": 10,
   "id": "f1afbde9",
   "metadata": {},
   "outputs": [],
   "source": [
    "X_train, X_test, y_train, y_test = dataset.train_test_split()"
   ]
  },
  {
   "cell_type": "code",
   "execution_count": 11,
   "id": "fcb66098",
   "metadata": {},
   "outputs": [],
   "source": [
    "# Initialize the DNN model\n",
    "model = InvarianceModel(input_dim=4)"
   ]
  },
  {
   "cell_type": "code",
   "execution_count": 12,
   "id": "76c1f5d7",
   "metadata": {},
   "outputs": [],
   "source": [
    "# Build and compile the DNN model\n",
    "model.build_and_compile(X_train)"
   ]
  },
  {
   "cell_type": "markdown",
   "id": "fc2057da",
   "metadata": {},
   "source": [
    "### Train the model if not saved already"
   ]
  },
  {
   "cell_type": "code",
   "execution_count": 13,
   "id": "08b73211",
   "metadata": {},
   "outputs": [
    {
     "name": "stdout",
     "output_type": "stream",
     "text": [
      "Epoch 1/200\n",
      "\u001b[1m181/181\u001b[0m \u001b[32m━━━━━━━━━━━━━━━━━━━━\u001b[0m\u001b[37m\u001b[0m \u001b[1m3s\u001b[0m 6ms/step - loss: 7.6250 - val_loss: 1.8300\n",
      "Epoch 2/200\n",
      "\u001b[1m181/181\u001b[0m \u001b[32m━━━━━━━━━━━━━━━━━━━━\u001b[0m\u001b[37m\u001b[0m \u001b[1m1s\u001b[0m 4ms/step - loss: 1.4144 - val_loss: 1.1644\n",
      "Epoch 3/200\n",
      "\u001b[1m181/181\u001b[0m \u001b[32m━━━━━━━━━━━━━━━━━━━━\u001b[0m\u001b[37m\u001b[0m \u001b[1m1s\u001b[0m 4ms/step - loss: 0.8086 - val_loss: 0.5541\n",
      "Epoch 4/200\n",
      "\u001b[1m181/181\u001b[0m \u001b[32m━━━━━━━━━━━━━━━━━━━━\u001b[0m\u001b[37m\u001b[0m \u001b[1m1s\u001b[0m 4ms/step - loss: 0.4341 - val_loss: 0.4189\n",
      "Epoch 5/200\n",
      "\u001b[1m181/181\u001b[0m \u001b[32m━━━━━━━━━━━━━━━━━━━━\u001b[0m\u001b[37m\u001b[0m \u001b[1m1s\u001b[0m 4ms/step - loss: 0.3125 - val_loss: 0.2754\n",
      "Epoch 6/200\n",
      "\u001b[1m181/181\u001b[0m \u001b[32m━━━━━━━━━━━━━━━━━━━━\u001b[0m\u001b[37m\u001b[0m \u001b[1m1s\u001b[0m 4ms/step - loss: 0.2783 - val_loss: 0.2892\n",
      "Epoch 7/200\n",
      "\u001b[1m181/181\u001b[0m \u001b[32m━━━━━━━━━━━━━━━━━━━━\u001b[0m\u001b[37m\u001b[0m \u001b[1m1s\u001b[0m 4ms/step - loss: 0.2686 - val_loss: 0.2512\n",
      "Epoch 8/200\n",
      "\u001b[1m181/181\u001b[0m \u001b[32m━━━━━━━━━━━━━━━━━━━━\u001b[0m\u001b[37m\u001b[0m \u001b[1m1s\u001b[0m 4ms/step - loss: 0.2584 - val_loss: 0.2982\n",
      "Epoch 9/200\n",
      "\u001b[1m181/181\u001b[0m \u001b[32m━━━━━━━━━━━━━━━━━━━━\u001b[0m\u001b[37m\u001b[0m \u001b[1m1s\u001b[0m 4ms/step - loss: 0.2627 - val_loss: 0.2511\n",
      "Epoch 10/200\n",
      "\u001b[1m181/181\u001b[0m \u001b[32m━━━━━━━━━━━━━━━━━━━━\u001b[0m\u001b[37m\u001b[0m \u001b[1m1s\u001b[0m 7ms/step - loss: 0.2521 - val_loss: 0.3101\n",
      "Epoch 11/200\n",
      "\u001b[1m181/181\u001b[0m \u001b[32m━━━━━━━━━━━━━━━━━━━━\u001b[0m\u001b[37m\u001b[0m \u001b[1m1s\u001b[0m 8ms/step - loss: 0.2538 - val_loss: 0.2460\n",
      "Epoch 12/200\n",
      "\u001b[1m181/181\u001b[0m \u001b[32m━━━━━━━━━━━━━━━━━━━━\u001b[0m\u001b[37m\u001b[0m \u001b[1m1s\u001b[0m 8ms/step - loss: 0.2410 - val_loss: 0.2402\n",
      "Epoch 13/200\n",
      "\u001b[1m181/181\u001b[0m \u001b[32m━━━━━━━━━━━━━━━━━━━━\u001b[0m\u001b[37m\u001b[0m \u001b[1m1s\u001b[0m 4ms/step - loss: 0.2466 - val_loss: 0.2912\n",
      "Epoch 14/200\n",
      "\u001b[1m181/181\u001b[0m \u001b[32m━━━━━━━━━━━━━━━━━━━━\u001b[0m\u001b[37m\u001b[0m \u001b[1m1s\u001b[0m 4ms/step - loss: 0.2470 - val_loss: 0.2556\n",
      "Epoch 15/200\n",
      "\u001b[1m181/181\u001b[0m \u001b[32m━━━━━━━━━━━━━━━━━━━━\u001b[0m\u001b[37m\u001b[0m \u001b[1m1s\u001b[0m 3ms/step - loss: 0.2464 - val_loss: 0.2423\n",
      "Epoch 16/200\n",
      "\u001b[1m181/181\u001b[0m \u001b[32m━━━━━━━━━━━━━━━━━━━━\u001b[0m\u001b[37m\u001b[0m \u001b[1m1s\u001b[0m 4ms/step - loss: 0.2443 - val_loss: 0.2395\n",
      "Epoch 17/200\n",
      "\u001b[1m181/181\u001b[0m \u001b[32m━━━━━━━━━━━━━━━━━━━━\u001b[0m\u001b[37m\u001b[0m \u001b[1m1s\u001b[0m 4ms/step - loss: 0.2407 - val_loss: 0.2420\n",
      "Epoch 18/200\n",
      "\u001b[1m181/181\u001b[0m \u001b[32m━━━━━━━━━━━━━━━━━━━━\u001b[0m\u001b[37m\u001b[0m \u001b[1m1s\u001b[0m 4ms/step - loss: 0.2349 - val_loss: 0.2267\n",
      "Epoch 19/200\n",
      "\u001b[1m181/181\u001b[0m \u001b[32m━━━━━━━━━━━━━━━━━━━━\u001b[0m\u001b[37m\u001b[0m \u001b[1m1s\u001b[0m 4ms/step - loss: 0.2295 - val_loss: 0.2341\n",
      "Epoch 20/200\n",
      "\u001b[1m181/181\u001b[0m \u001b[32m━━━━━━━━━━━━━━━━━━━━\u001b[0m\u001b[37m\u001b[0m \u001b[1m1s\u001b[0m 4ms/step - loss: 0.2371 - val_loss: 0.2243\n",
      "Epoch 21/200\n",
      "\u001b[1m181/181\u001b[0m \u001b[32m━━━━━━━━━━━━━━━━━━━━\u001b[0m\u001b[37m\u001b[0m \u001b[1m1s\u001b[0m 4ms/step - loss: 0.2328 - val_loss: 0.2388\n",
      "Epoch 22/200\n",
      "\u001b[1m181/181\u001b[0m \u001b[32m━━━━━━━━━━━━━━━━━━━━\u001b[0m\u001b[37m\u001b[0m \u001b[1m1s\u001b[0m 7ms/step - loss: 0.2385 - val_loss: 0.2173\n",
      "Epoch 23/200\n",
      "\u001b[1m181/181\u001b[0m \u001b[32m━━━━━━━━━━━━━━━━━━━━\u001b[0m\u001b[37m\u001b[0m \u001b[1m1s\u001b[0m 5ms/step - loss: 0.2335 - val_loss: 0.2246\n",
      "Epoch 24/200\n",
      "\u001b[1m181/181\u001b[0m \u001b[32m━━━━━━━━━━━━━━━━━━━━\u001b[0m\u001b[37m\u001b[0m \u001b[1m1s\u001b[0m 7ms/step - loss: 0.2370 - val_loss: 0.2478\n",
      "Epoch 25/200\n",
      "\u001b[1m181/181\u001b[0m \u001b[32m━━━━━━━━━━━━━━━━━━━━\u001b[0m\u001b[37m\u001b[0m \u001b[1m1s\u001b[0m 5ms/step - loss: 0.2309 - val_loss: 0.2595\n",
      "Epoch 26/200\n",
      "\u001b[1m181/181\u001b[0m \u001b[32m━━━━━━━━━━━━━━━━━━━━\u001b[0m\u001b[37m\u001b[0m \u001b[1m1s\u001b[0m 7ms/step - loss: 0.2321 - val_loss: 0.2403\n",
      "Epoch 27/200\n",
      "\u001b[1m181/181\u001b[0m \u001b[32m━━━━━━━━━━━━━━━━━━━━\u001b[0m\u001b[37m\u001b[0m \u001b[1m1s\u001b[0m 5ms/step - loss: 0.2362 - val_loss: 0.2219\n",
      "Epoch 28/200\n",
      "\u001b[1m181/181\u001b[0m \u001b[32m━━━━━━━━━━━━━━━━━━━━\u001b[0m\u001b[37m\u001b[0m \u001b[1m1s\u001b[0m 4ms/step - loss: 0.2307 - val_loss: 0.2426\n",
      "Epoch 29/200\n",
      "\u001b[1m181/181\u001b[0m \u001b[32m━━━━━━━━━━━━━━━━━━━━\u001b[0m\u001b[37m\u001b[0m \u001b[1m1s\u001b[0m 4ms/step - loss: 0.2292 - val_loss: 0.2196\n",
      "Epoch 30/200\n",
      "\u001b[1m181/181\u001b[0m \u001b[32m━━━━━━━━━━━━━━━━━━━━\u001b[0m\u001b[37m\u001b[0m \u001b[1m1s\u001b[0m 5ms/step - loss: 0.2284 - val_loss: 0.2378\n",
      "Epoch 31/200\n",
      "\u001b[1m181/181\u001b[0m \u001b[32m━━━━━━━━━━━━━━━━━━━━\u001b[0m\u001b[37m\u001b[0m \u001b[1m1s\u001b[0m 6ms/step - loss: 0.2236 - val_loss: 0.2441\n",
      "Epoch 32/200\n",
      "\u001b[1m181/181\u001b[0m \u001b[32m━━━━━━━━━━━━━━━━━━━━\u001b[0m\u001b[37m\u001b[0m \u001b[1m1s\u001b[0m 6ms/step - loss: 0.2340 - val_loss: 0.2157\n",
      "Epoch 33/200\n",
      "\u001b[1m181/181\u001b[0m \u001b[32m━━━━━━━━━━━━━━━━━━━━\u001b[0m\u001b[37m\u001b[0m \u001b[1m1s\u001b[0m 5ms/step - loss: 0.2320 - val_loss: 0.2173\n",
      "Epoch 34/200\n",
      "\u001b[1m181/181\u001b[0m \u001b[32m━━━━━━━━━━━━━━━━━━━━\u001b[0m\u001b[37m\u001b[0m \u001b[1m1s\u001b[0m 4ms/step - loss: 0.2252 - val_loss: 0.2343\n",
      "Epoch 35/200\n",
      "\u001b[1m181/181\u001b[0m \u001b[32m━━━━━━━━━━━━━━━━━━━━\u001b[0m\u001b[37m\u001b[0m \u001b[1m1s\u001b[0m 4ms/step - loss: 0.2307 - val_loss: 0.2364\n",
      "Epoch 36/200\n",
      "\u001b[1m181/181\u001b[0m \u001b[32m━━━━━━━━━━━━━━━━━━━━\u001b[0m\u001b[37m\u001b[0m \u001b[1m1s\u001b[0m 3ms/step - loss: 0.2301 - val_loss: 0.2219\n",
      "Epoch 37/200\n",
      "\u001b[1m181/181\u001b[0m \u001b[32m━━━━━━━━━━━━━━━━━━━━\u001b[0m\u001b[37m\u001b[0m \u001b[1m1s\u001b[0m 3ms/step - loss: 0.2308 - val_loss: 0.2204\n",
      "Epoch 38/200\n",
      "\u001b[1m181/181\u001b[0m \u001b[32m━━━━━━━━━━━━━━━━━━━━\u001b[0m\u001b[37m\u001b[0m \u001b[1m1s\u001b[0m 4ms/step - loss: 0.2227 - val_loss: 0.2306\n",
      "Epoch 39/200\n",
      "\u001b[1m181/181\u001b[0m \u001b[32m━━━━━━━━━━━━━━━━━━━━\u001b[0m\u001b[37m\u001b[0m \u001b[1m1s\u001b[0m 4ms/step - loss: 0.2261 - val_loss: 0.2385\n",
      "Epoch 40/200\n",
      "\u001b[1m181/181\u001b[0m \u001b[32m━━━━━━━━━━━━━━━━━━━━\u001b[0m\u001b[37m\u001b[0m \u001b[1m1s\u001b[0m 3ms/step - loss: 0.2212 - val_loss: 0.2492\n",
      "Epoch 41/200\n",
      "\u001b[1m181/181\u001b[0m \u001b[32m━━━━━━━━━━━━━━━━━━━━\u001b[0m\u001b[37m\u001b[0m \u001b[1m1s\u001b[0m 3ms/step - loss: 0.2299 - val_loss: 0.2250\n",
      "Epoch 42/200\n",
      "\u001b[1m181/181\u001b[0m \u001b[32m━━━━━━━━━━━━━━━━━━━━\u001b[0m\u001b[37m\u001b[0m \u001b[1m1s\u001b[0m 3ms/step - loss: 0.2235 - val_loss: 0.2337\n",
      "Epoch 43/200\n",
      "\u001b[1m181/181\u001b[0m \u001b[32m━━━━━━━━━━━━━━━━━━━━\u001b[0m\u001b[37m\u001b[0m \u001b[1m1s\u001b[0m 4ms/step - loss: 0.2225 - val_loss: 0.2171\n",
      "Epoch 44/200\n",
      "\u001b[1m181/181\u001b[0m \u001b[32m━━━━━━━━━━━━━━━━━━━━\u001b[0m\u001b[37m\u001b[0m \u001b[1m1s\u001b[0m 4ms/step - loss: 0.2219 - val_loss: 0.2377\n",
      "Epoch 45/200\n",
      "\u001b[1m181/181\u001b[0m \u001b[32m━━━━━━━━━━━━━━━━━━━━\u001b[0m\u001b[37m\u001b[0m \u001b[1m1s\u001b[0m 5ms/step - loss: 0.2332 - val_loss: 0.2233\n",
      "Epoch 46/200\n",
      "\u001b[1m181/181\u001b[0m \u001b[32m━━━━━━━━━━━━━━━━━━━━\u001b[0m\u001b[37m\u001b[0m \u001b[1m1s\u001b[0m 6ms/step - loss: 0.2240 - val_loss: 0.2634\n",
      "Epoch 47/200\n",
      "\u001b[1m181/181\u001b[0m \u001b[32m━━━━━━━━━━━━━━━━━━━━\u001b[0m\u001b[37m\u001b[0m \u001b[1m1s\u001b[0m 6ms/step - loss: 0.2240 - val_loss: 0.2332\n",
      "Epoch 48/200\n",
      "\u001b[1m181/181\u001b[0m \u001b[32m━━━━━━━━━━━━━━━━━━━━\u001b[0m\u001b[37m\u001b[0m \u001b[1m1s\u001b[0m 4ms/step - loss: 0.2255 - val_loss: 0.2367\n",
      "Epoch 49/200\n",
      "\u001b[1m181/181\u001b[0m \u001b[32m━━━━━━━━━━━━━━━━━━━━\u001b[0m\u001b[37m\u001b[0m \u001b[1m1s\u001b[0m 4ms/step - loss: 0.2243 - val_loss: 0.2405\n",
      "Epoch 50/200\n",
      "\u001b[1m181/181\u001b[0m \u001b[32m━━━━━━━━━━━━━━━━━━━━\u001b[0m\u001b[37m\u001b[0m \u001b[1m1s\u001b[0m 6ms/step - loss: 0.2298 - val_loss: 0.2307\n",
      "Epoch 51/200\n",
      "\u001b[1m181/181\u001b[0m \u001b[32m━━━━━━━━━━━━━━━━━━━━\u001b[0m\u001b[37m\u001b[0m \u001b[1m1s\u001b[0m 5ms/step - loss: 0.2176 - val_loss: 0.2254\n",
      "Epoch 52/200\n",
      "\u001b[1m181/181\u001b[0m \u001b[32m━━━━━━━━━━━━━━━━━━━━\u001b[0m\u001b[37m\u001b[0m \u001b[1m1s\u001b[0m 6ms/step - loss: 0.2233 - val_loss: 0.2772\n"
     ]
    }
   ],
   "source": [
    "# Train the model\n",
    "checkpoint_filepath = './tmp/checkpoint_toy_coupled_pairs.weights.h5'\n",
    "model_filepath = './tmp/checkpoint_toy_coupled_pairs.keras'\n",
    "model.train(X_train, y_train, checkpoint_path=checkpoint_filepath, model_path=model_filepath)"
   ]
  },
  {
   "cell_type": "code",
   "execution_count": 14,
   "id": "bfbbddcb",
   "metadata": {},
   "outputs": [],
   "source": [
    "# Save training history\n",
    "history_filepath = './tmp/checkpoint_toy_coupled_pairs.pkl'\n",
    "model.save_history(history_filepath)"
   ]
  },
  {
   "cell_type": "markdown",
   "id": "0cc3ac2c",
   "metadata": {},
   "source": [
    "### Otherwise, load trained model"
   ]
  },
  {
   "cell_type": "code",
   "execution_count": 15,
   "id": "06603c6c",
   "metadata": {},
   "outputs": [],
   "source": [
    "# Reload model and history\n",
    "history_filepath = './tmp/checkpoint_toy_coupled_pairs.pkl'\n",
    "history = model.load_history(history_filepath)\n",
    "\n",
    "model_filepath = './tmp/checkpoint_toy_coupled_pairs.keras'\n",
    "model.load_model(model_filepath)"
   ]
  },
  {
   "cell_type": "markdown",
   "id": "c759a2fc",
   "metadata": {},
   "source": [
    "### Model metrics"
   ]
  },
  {
   "cell_type": "code",
   "execution_count": 16,
   "id": "8819b5fe",
   "metadata": {},
   "outputs": [
    {
     "name": "stdout",
     "output_type": "stream",
     "text": [
      "\u001b[1m38/38\u001b[0m \u001b[32m━━━━━━━━━━━━━━━━━━━━\u001b[0m\u001b[37m\u001b[0m \u001b[1m0s\u001b[0m 5ms/step\n",
      "R² = 0.997\n",
      "MAE = 0.216\n",
      "RMSE = 0.271\n"
     ]
    }
   ],
   "source": [
    "# Evaluate on test set\n",
    "r2, mae, rmse = model.evaluate(X_test, y_test)\n",
    "\n",
    "print(f\"R² = {r2:.3f}\")\n",
    "print(f\"MAE = {mae:.3f}\")\n",
    "print(f\"RMSE = {rmse:.3f}\")"
   ]
  },
  {
   "cell_type": "code",
   "execution_count": 17,
   "id": "ed7dd88e",
   "metadata": {},
   "outputs": [
    {
     "name": "stdout",
     "output_type": "stream",
     "text": [
      "\u001b[1m38/38\u001b[0m \u001b[32m━━━━━━━━━━━━━━━━━━━━\u001b[0m\u001b[37m\u001b[0m \u001b[1m0s\u001b[0m 3ms/step\n"
     ]
    },
    {
     "data": {
      "image/png": "[encoded data removed]",
      "text/plain": [
       "<Figure size 1050x450 with 2 Axes>"
      ]
     },
     "metadata": {},
     "output_type": "display_data"
    }
   ],
   "source": [
    "delta = max(y_test) - min(y_test)\n",
    "fig, (ax1, ax2) = plt.subplots(1, 2, figsize=(7, 3), dpi=150)\n",
    "test_predictions = model.predict(X_test)\n",
    "\n",
    "# Scatter predicted vs true\n",
    "ax1.scatter(y_test, test_predictions, alpha=0.4)\n",
    "p1 = max(max(test_predictions), max(y_test))\n",
    "p2 = min(min(test_predictions), min(y_test))\n",
    "ax1.plot([p1, p2], [p1, p2], \"C1\")\n",
    "ax1.annotate(f\"$R^2$ = {r2:.3f}\", xy=(0.02 * delta, 0.95 * delta))\n",
    "ax1.annotate(f\"MAE = {mae:.2f}\", xy=(0.02 * delta, 0.85 * delta))\n",
    "ax1.annotate(f\"RMSE = {rmse:.2f}\", xy=(0.02 * delta, 0.75 * delta))\n",
    "ax1.set_xlabel(\"True f\")\n",
    "ax1.set_ylabel(\"Predicted f\")\n",
    "ax1.set_title(\"Predicted vs True\")\n",
    "\n",
    "# Loss curves\n",
    "ax2.plot(history['loss'], label='loss')\n",
    "ax2.plot(history['val_loss'], label='val_loss')\n",
    "ax2.set_yscale('log')\n",
    "ax2.set_xlabel('Epoch')\n",
    "ax2.set_ylabel('MAE')\n",
    "ax2.legend(frameon=False)\n",
    "ax2.set_title(\"Loss curves\")\n",
    "\n",
    "plt.tight_layout()\n",
    "plt.show()"
   ]
  },
  {
   "cell_type": "markdown",
   "id": "c127a38f",
   "metadata": {},
   "source": [
    "## Invariance detection\n",
    "This section performs feature grouping analysis using combinations of two features.\n",
    "\n",
    "The analysis aims to detect invariant groups of features in the form $x_i^{\\alpha_1} x_j^{\\alpha_2}$."
   ]
  },
  {
   "cell_type": "code",
   "execution_count": 18,
   "id": "6db2323e",
   "metadata": {},
   "outputs": [],
   "source": [
    "# Load the pre-trained model\n",
    "model = InvarianceModel(input_dim=4)\n",
    "model_filepath = './tmp/checkpoint_toy_coupled_pairs.keras'\n",
    "model.load_model(model_filepath)"
   ]
  },
  {
   "cell_type": "code",
   "execution_count": 19,
   "id": "ef0a4aa0",
   "metadata": {},
   "outputs": [
    {
     "data": {
      "text/plain": [
       "['x', 'y', 'z', 'w']"
      ]
     },
     "execution_count": 19,
     "metadata": {},
     "output_type": "execute_result"
    }
   ],
   "source": [
    "# List of features\n",
    "feature_names = dataset.feature_names\n",
    "feature_names"
   ]
  },
  {
   "cell_type": "code",
   "execution_count": 20,
   "id": "4c8905f0",
   "metadata": {},
   "outputs": [],
   "source": [
    "detector = InvarianceDetector()"
   ]
  },
  {
   "cell_type": "markdown",
   "id": "bb0e9b95",
   "metadata": {},
   "source": [
    "This is a bit more susceptible to the initial guess. If they are far from the true values, then the protocol may not recover the real exponents/coefficients. However, it may still find a \"local\" invariance!"
   ]
  },
  {
   "cell_type": "code",
   "execution_count": 21,
   "id": "03daef18",
   "metadata": {},
   "outputs": [
    {
     "name": "stderr",
     "output_type": "stream",
     "text": [
      "100%|██████████| 12/12 [02:56<00:00, 14.68s/it]\n"
     ]
    }
   ],
   "source": [
    "res = detector.find_invariant_coupled_pairs(dataset, model, [0.5, 0.5, 0.5, 0.5], mode='product')"
   ]
  },
  {
   "cell_type": "code",
   "execution_count": 22,
   "id": "8d0eb958",
   "metadata": {},
   "outputs": [
    {
     "name": "stdout",
     "output_type": "stream",
     "text": [
      "        coupled_pair    mean_a     std_a    mean_b     std_b    mean_c  \\\n",
      "0   ((x, y), (x, z))  0.791304  0.044859  0.606675  0.061412  0.926993   \n",
      "1   ((x, y), (x, w))  0.503483  0.090588  0.857087  0.060830  0.424086   \n",
      "2   ((x, y), (y, z))  0.901594  0.060367  0.257522  0.342297  0.902888   \n",
      "3   ((x, y), (y, w))  0.975747  0.031869 -0.169260  0.135106  0.500494   \n",
      "4   ((x, z), (x, w))  0.920170  0.040081  0.367982  0.127556  0.364144   \n",
      "5   [(x, z), (z, y)]  0.993290  0.016391  0.029372  0.110651  0.190102   \n",
      "6   ((x, z), (z, w))  0.973107  0.011573 -0.221036  0.063816  0.222122   \n",
      "7   [(x, w), (w, y)]  0.637522  0.306728  0.650079  0.277273  0.552657   \n",
      "8   [(x, w), (w, z)]  0.636184  0.195032  0.723641  0.183236  0.959648   \n",
      "9   ((y, z), (y, w))  0.937034  0.029631  0.331173  0.106837  0.227139   \n",
      "10  ((y, z), (z, w))  0.997845  0.000783 -0.062584  0.019714  0.084705   \n",
      "11  [(y, w), (w, z)]  0.497614  0.107249  0.857994  0.068729  0.980061   \n",
      "\n",
      "       std_c    mean_d     std_d  \n",
      "0   0.025637  0.365512  0.080173  \n",
      "1   0.151351  0.889668  0.075726  \n",
      "2   0.044216  0.418819  0.086188  \n",
      "3   0.203688  0.834542  0.107504  \n",
      "4   0.253888  0.889691  0.106718  \n",
      "5   0.047318  0.980565  0.010667  \n",
      "6   0.057661  0.973237  0.012097  \n",
      "7   0.159651  0.811025  0.106397  \n",
      "8   0.032889  0.222240  0.169129  \n",
      "9   0.167546  0.958564  0.038606  \n",
      "10  0.026017  0.996063  0.002437  \n",
      "11  0.017384  0.144657  0.135102  \n"
     ]
    }
   ],
   "source": [
    "print(res)"
   ]
  },
  {
   "cell_type": "code",
   "execution_count": null,
   "id": "576344c7",
   "metadata": {},
   "outputs": [],
   "source": []
  }
 ],
 "metadata": {
  "kernelspec": {
   "display_name": "good_vars_env",
   "language": "python",
   "name": "python3"
  },
  "language_info": {
   "codemirror_mode": {
    "name": "ipython",
    "version": 3
   },
   "file_extension": ".py",
   "mimetype": "text/x-python",
   "name": "python",
   "nbconvert_exporter": "python",
   "pygments_lexer": "ipython3",
   "version": "3.10.15"
  }
 },
 "nbformat": 4,
 "nbformat_minor": 5
}
