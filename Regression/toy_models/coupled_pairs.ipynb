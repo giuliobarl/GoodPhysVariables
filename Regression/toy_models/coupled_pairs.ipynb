{
 "cells": [
  {
   "cell_type": "markdown",
   "id": "b7a0292e",
   "metadata": {},
   "source": [
    "# Toy dataset with two coupled invariant pairs [(x, y), (x, z)]\n",
    "Function: $f(x_1,x_2,x_3,x_4) = \\left(x_1^4 \\cdot x_2^3 \\right) + \\log(5 x_1^2 \\cdot x_3) + \\sqrt{x_4^3}$\n",
    "\n",
    "True invariant combination:\n",
    "- $[u, v] = \\left[ x_1^4 \\cdot x_2^3, x_1^2 \\cdot x_3 \\right]$ (normalized exponents $\\alpha=0.8, \\, \\beta=0.6, \\, \\gamma=0.894, \\, \\delta=0.447$)"
   ]
  },
  {
   "cell_type": "code",
   "execution_count": 57,
   "id": "3c9888b2",
   "metadata": {},
   "outputs": [
    {
     "name": "stdout",
     "output_type": "stream",
     "text": [
      "The autoreload extension is already loaded. To reload it, use:\n",
      "  %reload_ext autoreload\n"
     ]
    }
   ],
   "source": [
    "%load_ext autoreload\n",
    "%autoreload 2\n",
    "\n",
    "import matplotlib.pyplot as plt\n",
    "import numpy as np\n",
    "import pandas as pd\n",
    "import warnings\n",
    "\n",
    "import sys, os\n",
    "sys.path.append(os.path.abspath(os.path.join(os.getcwd(), \"../..\")))\n",
    "from Regression.dataset import InvarianceDataset\n",
    "from Regression.model import InvarianceModel\n",
    "from Regression.detector import InvarianceDetector\n",
    "\n",
    "warnings.filterwarnings(\"ignore\", category=DeprecationWarning)"
   ]
  },
  {
   "cell_type": "markdown",
   "id": "a8541e41",
   "metadata": {},
   "source": [
    "## Creates a noisy dataset and saves it."
   ]
  },
  {
   "cell_type": "code",
   "execution_count": null,
   "id": "be575c67",
   "metadata": {},
   "outputs": [],
   "source": [
    "# reproducibility\n",
    "np.random.seed(0)\n",
    "\n",
    "def f_fun(x_1, x_2, x_3, x_4):\n",
    "    return x_1**4 * x_2**3 + np.log(5 * x_1**2 * x_3) + np.sqrt(x_4**3)"
   ]
  },
  {
   "cell_type": "code",
   "execution_count": 59,
   "id": "4b2175b2",
   "metadata": {},
   "outputs": [],
   "source": [
    "# sampling\n",
    "N = 8000\n",
    "x = np.random.uniform(1.0, 2.0, size=N)\n",
    "y = np.random.uniform(0.5, 1.0, size=N)\n",
    "z = np.random.uniform(2.0, 5.0, size=N)\n",
    "w = np.random.uniform(1.0, 2.0, size=N)\n",
    "\n",
    "# noiseless target\n",
    "f_clean = f_fun(x, y, z, w)"
   ]
  },
  {
   "cell_type": "code",
   "execution_count": 60,
   "id": "34d83796",
   "metadata": {},
   "outputs": [],
   "source": [
    "# add additive Gaussian noise scaled to a fraction of the std of f\n",
    "noise_frac = 0.05   # 10% of std(f)\n",
    "noise = np.random.normal(0.00, noise_frac * np.std(f_clean), size=N)\n",
    "f_noisy = f_clean + noise"
   ]
  },
  {
   "cell_type": "code",
   "execution_count": 61,
   "id": "7d5b5baf",
   "metadata": {},
   "outputs": [
    {
     "name": "stdout",
     "output_type": "stream",
     "text": [
      "Dataset has N = 8000, noise_frac = 0.05 (i.e. 5.0% of std(f)).\n"
     ]
    }
   ],
   "source": [
    "# build dataframe and include the true invariant for diagnostics\n",
    "df = pd.DataFrame({\n",
    "    \"x\": x,\n",
    "    \"y\": y,\n",
    "    \"z\": z,\n",
    "    \"w\": w,\n",
    "    \"f\": f_noisy\n",
    "})\n",
    "\n",
    "print(f\"Dataset has N = {N}, noise_frac = {noise_frac} (i.e. {noise_frac*100:.1f}% of std(f)).\")"
   ]
  },
  {
   "cell_type": "markdown",
   "id": "8caaa66c",
   "metadata": {},
   "source": [
    "### Save dataset if first time creating it"
   ]
  },
  {
   "cell_type": "code",
   "execution_count": 62,
   "id": "e3ea8721",
   "metadata": {},
   "outputs": [],
   "source": [
    "dataset = InvarianceDataset(df, \"f\")"
   ]
  },
  {
   "cell_type": "code",
   "execution_count": 63,
   "id": "06dbcfd3",
   "metadata": {},
   "outputs": [],
   "source": [
    "# save files for use in notebooks / examples\n",
    "csv_path = \"../../Data/toy_coupled_pairs_dataset.csv\"\n",
    "xlsx_path = \"../../Data/toy_coupled_pairs_dataset.xlsx\"\n",
    "try:\n",
    "    dataset.to_excel(xlsx_path)\n",
    "except Exception:   \n",
    "    # openpyxl might not be installed in some environments — ignore if save to excel fails\n",
    "    xlsx_path = None\n",
    "    dataset.to_csv(csv_path)"
   ]
  },
  {
   "cell_type": "markdown",
   "id": "5f5964b8",
   "metadata": {},
   "source": [
    "### Read dataset if already saved"
   ]
  },
  {
   "cell_type": "code",
   "execution_count": 64,
   "id": "20f33433",
   "metadata": {},
   "outputs": [],
   "source": [
    "csv_path = \"../../Data/toy_coupled_pairs_dataset.csv\"\n",
    "xlsx_path = \"../../Data/toy_coupled_pairs_dataset.xlsx\"\n",
    "try:\n",
    "    dataset = InvarianceDataset.from_excel(xlsx_path, 'f')\n",
    "except Exception:   \n",
    "    # openpyxl might not be installed in some environments — ignore if save to excel fails\n",
    "    xlsx_path = None\n",
    "    dataset = InvarianceDataset.from_csv(csv_path, 'f')"
   ]
  },
  {
   "cell_type": "code",
   "execution_count": 65,
   "id": "793ecb18",
   "metadata": {},
   "outputs": [
    {
     "name": "stdout",
     "output_type": "stream",
     "text": [
      "\n",
      "DataFrame summary (first 5 rows):\n",
      "\n",
      "          x         y         z         w         f\n",
      "0  1.548814  0.728880  3.186612  1.153196  6.888122\n",
      "1  1.715189  0.688459  4.532052  1.032812  7.874597\n",
      "2  1.602763  0.851168  2.451325  1.228795  8.620036\n",
      "3  1.544883  0.603662  2.918928  1.499246  6.422046\n",
      "4  1.423655  0.537140  2.283711  1.295389  5.034310\n",
      "\n",
      "Descriptive statistics:\n",
      "\n",
      "                 x            y            z            w            f\n",
      "count  8000.000000  8000.000000  8000.000000  8000.000000  8000.000000\n",
      "mean      1.495549     0.746348     3.502402     1.499800     8.316124\n",
      "std       0.289739     0.144385     0.878310     0.288963     3.121915\n",
      "min       1.000072     0.500083     2.000692     1.000345     3.440385\n",
      "25%       1.244534     0.622234     2.734352     1.247010     6.078522\n",
      "50%       1.492803     0.744100     3.512538     1.503056     7.452527\n",
      "75%       1.747077     0.872502     4.271929     1.748801     9.661778\n",
      "max       1.999964     0.999989     4.999566     1.999919    21.804298\n"
     ]
    }
   ],
   "source": [
    "# show a quick summary and the head of the dataframe\n",
    "print(\"\\nDataFrame summary (first 5 rows):\\n\")\n",
    "print(dataset.head())\n",
    "\n",
    "# show descriptive statistics\n",
    "print(\"\\nDescriptive statistics:\\n\")\n",
    "print(dataset.summary())"
   ]
  },
  {
   "cell_type": "markdown",
   "id": "541b314f",
   "metadata": {},
   "source": [
    "## DNN model"
   ]
  },
  {
   "cell_type": "code",
   "execution_count": 66,
   "id": "f1afbde9",
   "metadata": {},
   "outputs": [],
   "source": [
    "X_train, X_test, y_train, y_test = dataset.train_test_split()"
   ]
  },
  {
   "cell_type": "code",
   "execution_count": 67,
   "id": "fcb66098",
   "metadata": {},
   "outputs": [],
   "source": [
    "# Initialize the DNN model\n",
    "model = InvarianceModel(input_dim=5)"
   ]
  },
  {
   "cell_type": "code",
   "execution_count": 68,
   "id": "76c1f5d7",
   "metadata": {},
   "outputs": [],
   "source": [
    "# Build and compile the DNN model\n",
    "model.build_and_compile(X_train)"
   ]
  },
  {
   "cell_type": "markdown",
   "id": "fc2057da",
   "metadata": {},
   "source": [
    "### Train the model if not saved already"
   ]
  },
  {
   "cell_type": "code",
   "execution_count": 69,
   "id": "08b73211",
   "metadata": {},
   "outputs": [
    {
     "name": "stdout",
     "output_type": "stream",
     "text": [
      "Epoch 1/200\n",
      "\u001b[1m181/181\u001b[0m \u001b[32m━━━━━━━━━━━━━━━━━━━━\u001b[0m\u001b[37m\u001b[0m \u001b[1m2s\u001b[0m 5ms/step - loss: 2.6707 - val_loss: 0.8083\n",
      "Epoch 2/200\n",
      "\u001b[1m181/181\u001b[0m \u001b[32m━━━━━━━━━━━━━━━━━━━━\u001b[0m\u001b[37m\u001b[0m \u001b[1m1s\u001b[0m 4ms/step - loss: 0.5691 - val_loss: 0.3678\n",
      "Epoch 3/200\n",
      "\u001b[1m181/181\u001b[0m \u001b[32m━━━━━━━━━━━━━━━━━━━━\u001b[0m\u001b[37m\u001b[0m \u001b[1m1s\u001b[0m 4ms/step - loss: 0.2704 - val_loss: 0.2086\n",
      "Epoch 4/200\n",
      "\u001b[1m181/181\u001b[0m \u001b[32m━━━━━━━━━━━━━━━━━━━━\u001b[0m\u001b[37m\u001b[0m \u001b[1m1s\u001b[0m 4ms/step - loss: 0.2205 - val_loss: 0.2058\n",
      "Epoch 5/200\n",
      "\u001b[1m181/181\u001b[0m \u001b[32m━━━━━━━━━━━━━━━━━━━━\u001b[0m\u001b[37m\u001b[0m \u001b[1m1s\u001b[0m 3ms/step - loss: 0.1976 - val_loss: 0.2092\n",
      "Epoch 6/200\n",
      "\u001b[1m181/181\u001b[0m \u001b[32m━━━━━━━━━━━━━━━━━━━━\u001b[0m\u001b[37m\u001b[0m \u001b[1m1s\u001b[0m 3ms/step - loss: 0.1884 - val_loss: 0.1945\n",
      "Epoch 7/200\n",
      "\u001b[1m181/181\u001b[0m \u001b[32m━━━━━━━━━━━━━━━━━━━━\u001b[0m\u001b[37m\u001b[0m \u001b[1m1s\u001b[0m 3ms/step - loss: 0.1835 - val_loss: 0.1810\n",
      "Epoch 8/200\n",
      "\u001b[1m181/181\u001b[0m \u001b[32m━━━━━━━━━━━━━━━━━━━━\u001b[0m\u001b[37m\u001b[0m \u001b[1m1s\u001b[0m 3ms/step - loss: 0.1751 - val_loss: 0.1690\n",
      "Epoch 9/200\n",
      "\u001b[1m181/181\u001b[0m \u001b[32m━━━━━━━━━━━━━━━━━━━━\u001b[0m\u001b[37m\u001b[0m \u001b[1m1s\u001b[0m 3ms/step - loss: 0.1682 - val_loss: 0.1659\n",
      "Epoch 10/200\n",
      "\u001b[1m181/181\u001b[0m \u001b[32m━━━━━━━━━━━━━━━━━━━━\u001b[0m\u001b[37m\u001b[0m \u001b[1m1s\u001b[0m 3ms/step - loss: 0.1676 - val_loss: 0.1606\n",
      "Epoch 11/200\n",
      "\u001b[1m181/181\u001b[0m \u001b[32m━━━━━━━━━━━━━━━━━━━━\u001b[0m\u001b[37m\u001b[0m \u001b[1m0s\u001b[0m 3ms/step - loss: 0.1632 - val_loss: 0.2200\n",
      "Epoch 12/200\n",
      "\u001b[1m181/181\u001b[0m \u001b[32m━━━━━━━━━━━━━━━━━━━━\u001b[0m\u001b[37m\u001b[0m \u001b[1m0s\u001b[0m 3ms/step - loss: 0.1675 - val_loss: 0.1648\n",
      "Epoch 13/200\n",
      "\u001b[1m181/181\u001b[0m \u001b[32m━━━━━━━━━━━━━━━━━━━━\u001b[0m\u001b[37m\u001b[0m \u001b[1m1s\u001b[0m 3ms/step - loss: 0.1589 - val_loss: 0.1770\n",
      "Epoch 14/200\n",
      "\u001b[1m181/181\u001b[0m \u001b[32m━━━━━━━━━━━━━━━━━━━━\u001b[0m\u001b[37m\u001b[0m \u001b[1m1s\u001b[0m 3ms/step - loss: 0.1621 - val_loss: 0.1536\n",
      "Epoch 15/200\n",
      "\u001b[1m181/181\u001b[0m \u001b[32m━━━━━━━━━━━━━━━━━━━━\u001b[0m\u001b[37m\u001b[0m \u001b[1m0s\u001b[0m 3ms/step - loss: 0.1603 - val_loss: 0.1902\n",
      "Epoch 16/200\n",
      "\u001b[1m181/181\u001b[0m \u001b[32m━━━━━━━━━━━━━━━━━━━━\u001b[0m\u001b[37m\u001b[0m \u001b[1m1s\u001b[0m 3ms/step - loss: 0.1584 - val_loss: 0.1583\n",
      "Epoch 17/200\n",
      "\u001b[1m181/181\u001b[0m \u001b[32m━━━━━━━━━━━━━━━━━━━━\u001b[0m\u001b[37m\u001b[0m \u001b[1m1s\u001b[0m 3ms/step - loss: 0.1605 - val_loss: 0.1570\n",
      "Epoch 18/200\n",
      "\u001b[1m181/181\u001b[0m \u001b[32m━━━━━━━━━━━━━━━━━━━━\u001b[0m\u001b[37m\u001b[0m \u001b[1m1s\u001b[0m 3ms/step - loss: 0.1563 - val_loss: 0.1562\n",
      "Epoch 19/200\n",
      "\u001b[1m181/181\u001b[0m \u001b[32m━━━━━━━━━━━━━━━━━━━━\u001b[0m\u001b[37m\u001b[0m \u001b[1m1s\u001b[0m 3ms/step - loss: 0.1547 - val_loss: 0.1506\n",
      "Epoch 20/200\n",
      "\u001b[1m181/181\u001b[0m \u001b[32m━━━━━━━━━━━━━━━━━━━━\u001b[0m\u001b[37m\u001b[0m \u001b[1m1s\u001b[0m 3ms/step - loss: 0.1513 - val_loss: 0.1436\n",
      "Epoch 21/200\n",
      "\u001b[1m181/181\u001b[0m \u001b[32m━━━━━━━━━━━━━━━━━━━━\u001b[0m\u001b[37m\u001b[0m \u001b[1m1s\u001b[0m 3ms/step - loss: 0.1536 - val_loss: 0.1621\n",
      "Epoch 22/200\n",
      "\u001b[1m181/181\u001b[0m \u001b[32m━━━━━━━━━━━━━━━━━━━━\u001b[0m\u001b[37m\u001b[0m \u001b[1m1s\u001b[0m 3ms/step - loss: 0.1543 - val_loss: 0.1489\n",
      "Epoch 23/200\n",
      "\u001b[1m181/181\u001b[0m \u001b[32m━━━━━━━━━━━━━━━━━━━━\u001b[0m\u001b[37m\u001b[0m \u001b[1m1s\u001b[0m 4ms/step - loss: 0.1467 - val_loss: 0.1458\n",
      "Epoch 24/200\n",
      "\u001b[1m181/181\u001b[0m \u001b[32m━━━━━━━━━━━━━━━━━━━━\u001b[0m\u001b[37m\u001b[0m \u001b[1m1s\u001b[0m 4ms/step - loss: 0.1469 - val_loss: 0.1464\n",
      "Epoch 25/200\n",
      "\u001b[1m181/181\u001b[0m \u001b[32m━━━━━━━━━━━━━━━━━━━━\u001b[0m\u001b[37m\u001b[0m \u001b[1m1s\u001b[0m 3ms/step - loss: 0.1490 - val_loss: 0.1445\n",
      "Epoch 26/200\n",
      "\u001b[1m181/181\u001b[0m \u001b[32m━━━━━━━━━━━━━━━━━━━━\u001b[0m\u001b[37m\u001b[0m \u001b[1m1s\u001b[0m 4ms/step - loss: 0.1485 - val_loss: 0.1392\n",
      "Epoch 27/200\n",
      "\u001b[1m181/181\u001b[0m \u001b[32m━━━━━━━━━━━━━━━━━━━━\u001b[0m\u001b[37m\u001b[0m \u001b[1m1s\u001b[0m 3ms/step - loss: 0.1468 - val_loss: 0.1513\n",
      "Epoch 28/200\n",
      "\u001b[1m181/181\u001b[0m \u001b[32m━━━━━━━━━━━━━━━━━━━━\u001b[0m\u001b[37m\u001b[0m \u001b[1m1s\u001b[0m 4ms/step - loss: 0.1447 - val_loss: 0.1439\n",
      "Epoch 29/200\n",
      "\u001b[1m181/181\u001b[0m \u001b[32m━━━━━━━━━━━━━━━━━━━━\u001b[0m\u001b[37m\u001b[0m \u001b[1m1s\u001b[0m 3ms/step - loss: 0.1445 - val_loss: 0.1588\n",
      "Epoch 30/200\n",
      "\u001b[1m181/181\u001b[0m \u001b[32m━━━━━━━━━━━━━━━━━━━━\u001b[0m\u001b[37m\u001b[0m \u001b[1m1s\u001b[0m 3ms/step - loss: 0.1448 - val_loss: 0.1452\n",
      "Epoch 31/200\n",
      "\u001b[1m181/181\u001b[0m \u001b[32m━━━━━━━━━━━━━━━━━━━━\u001b[0m\u001b[37m\u001b[0m \u001b[1m1s\u001b[0m 3ms/step - loss: 0.1484 - val_loss: 0.1395\n",
      "Epoch 32/200\n",
      "\u001b[1m181/181\u001b[0m \u001b[32m━━━━━━━━━━━━━━━━━━━━\u001b[0m\u001b[37m\u001b[0m \u001b[1m1s\u001b[0m 3ms/step - loss: 0.1415 - val_loss: 0.1476\n",
      "Epoch 33/200\n",
      "\u001b[1m181/181\u001b[0m \u001b[32m━━━━━━━━━━━━━━━━━━━━\u001b[0m\u001b[37m\u001b[0m \u001b[1m1s\u001b[0m 3ms/step - loss: 0.1456 - val_loss: 0.1368\n",
      "Epoch 34/200\n",
      "\u001b[1m181/181\u001b[0m \u001b[32m━━━━━━━━━━━━━━━━━━━━\u001b[0m\u001b[37m\u001b[0m \u001b[1m1s\u001b[0m 3ms/step - loss: 0.1462 - val_loss: 0.1597\n",
      "Epoch 35/200\n",
      "\u001b[1m181/181\u001b[0m \u001b[32m━━━━━━━━━━━━━━━━━━━━\u001b[0m\u001b[37m\u001b[0m \u001b[1m1s\u001b[0m 3ms/step - loss: 0.1452 - val_loss: 0.1466\n",
      "Epoch 36/200\n",
      "\u001b[1m181/181\u001b[0m \u001b[32m━━━━━━━━━━━━━━━━━━━━\u001b[0m\u001b[37m\u001b[0m \u001b[1m1s\u001b[0m 3ms/step - loss: 0.1469 - val_loss: 0.1443\n",
      "Epoch 37/200\n",
      "\u001b[1m181/181\u001b[0m \u001b[32m━━━━━━━━━━━━━━━━━━━━\u001b[0m\u001b[37m\u001b[0m \u001b[1m0s\u001b[0m 3ms/step - loss: 0.1432 - val_loss: 0.1458\n",
      "Epoch 38/200\n",
      "\u001b[1m181/181\u001b[0m \u001b[32m━━━━━━━━━━━━━━━━━━━━\u001b[0m\u001b[37m\u001b[0m \u001b[1m0s\u001b[0m 3ms/step - loss: 0.1455 - val_loss: 0.1525\n",
      "Epoch 39/200\n",
      "\u001b[1m181/181\u001b[0m \u001b[32m━━━━━━━━━━━━━━━━━━━━\u001b[0m\u001b[37m\u001b[0m \u001b[1m0s\u001b[0m 2ms/step - loss: 0.1421 - val_loss: 0.1485\n",
      "Epoch 40/200\n",
      "\u001b[1m181/181\u001b[0m \u001b[32m━━━━━━━━━━━━━━━━━━━━\u001b[0m\u001b[37m\u001b[0m \u001b[1m0s\u001b[0m 3ms/step - loss: 0.1465 - val_loss: 0.1564\n",
      "Epoch 41/200\n",
      "\u001b[1m181/181\u001b[0m \u001b[32m━━━━━━━━━━━━━━━━━━━━\u001b[0m\u001b[37m\u001b[0m \u001b[1m1s\u001b[0m 3ms/step - loss: 0.1433 - val_loss: 0.1365\n",
      "Epoch 42/200\n",
      "\u001b[1m181/181\u001b[0m \u001b[32m━━━━━━━━━━━━━━━━━━━━\u001b[0m\u001b[37m\u001b[0m \u001b[1m1s\u001b[0m 3ms/step - loss: 0.1469 - val_loss: 0.1544\n",
      "Epoch 43/200\n",
      "\u001b[1m181/181\u001b[0m \u001b[32m━━━━━━━━━━━━━━━━━━━━\u001b[0m\u001b[37m\u001b[0m \u001b[1m0s\u001b[0m 2ms/step - loss: 0.1464 - val_loss: 0.1666\n",
      "Epoch 44/200\n",
      "\u001b[1m181/181\u001b[0m \u001b[32m━━━━━━━━━━━━━━━━━━━━\u001b[0m\u001b[37m\u001b[0m \u001b[1m0s\u001b[0m 3ms/step - loss: 0.1413 - val_loss: 0.1485\n",
      "Epoch 45/200\n",
      "\u001b[1m181/181\u001b[0m \u001b[32m━━━━━━━━━━━━━━━━━━━━\u001b[0m\u001b[37m\u001b[0m \u001b[1m0s\u001b[0m 2ms/step - loss: 0.1379 - val_loss: 0.1415\n",
      "Epoch 46/200\n",
      "\u001b[1m181/181\u001b[0m \u001b[32m━━━━━━━━━━━━━━━━━━━━\u001b[0m\u001b[37m\u001b[0m \u001b[1m1s\u001b[0m 3ms/step - loss: 0.1392 - val_loss: 0.1349\n",
      "Epoch 47/200\n",
      "\u001b[1m181/181\u001b[0m \u001b[32m━━━━━━━━━━━━━━━━━━━━\u001b[0m\u001b[37m\u001b[0m \u001b[1m0s\u001b[0m 3ms/step - loss: 0.1401 - val_loss: 0.1397\n",
      "Epoch 48/200\n",
      "\u001b[1m181/181\u001b[0m \u001b[32m━━━━━━━━━━━━━━━━━━━━\u001b[0m\u001b[37m\u001b[0m \u001b[1m0s\u001b[0m 2ms/step - loss: 0.1404 - val_loss: 0.1382\n",
      "Epoch 49/200\n",
      "\u001b[1m181/181\u001b[0m \u001b[32m━━━━━━━━━━━━━━━━━━━━\u001b[0m\u001b[37m\u001b[0m \u001b[1m0s\u001b[0m 3ms/step - loss: 0.1416 - val_loss: 0.1422\n",
      "Epoch 50/200\n",
      "\u001b[1m181/181\u001b[0m \u001b[32m━━━━━━━━━━━━━━━━━━━━\u001b[0m\u001b[37m\u001b[0m \u001b[1m0s\u001b[0m 2ms/step - loss: 0.1402 - val_loss: 0.1457\n",
      "Epoch 51/200\n",
      "\u001b[1m181/181\u001b[0m \u001b[32m━━━━━━━━━━━━━━━━━━━━\u001b[0m\u001b[37m\u001b[0m \u001b[1m0s\u001b[0m 3ms/step - loss: 0.1420 - val_loss: 0.1367\n",
      "Epoch 52/200\n",
      "\u001b[1m181/181\u001b[0m \u001b[32m━━━━━━━━━━━━━━━━━━━━\u001b[0m\u001b[37m\u001b[0m \u001b[1m1s\u001b[0m 3ms/step - loss: 0.1389 - val_loss: 0.1603\n",
      "Epoch 53/200\n",
      "\u001b[1m181/181\u001b[0m \u001b[32m━━━━━━━━━━━━━━━━━━━━\u001b[0m\u001b[37m\u001b[0m \u001b[1m1s\u001b[0m 3ms/step - loss: 0.1409 - val_loss: 0.1556\n",
      "Epoch 54/200\n",
      "\u001b[1m181/181\u001b[0m \u001b[32m━━━━━━━━━━━━━━━━━━━━\u001b[0m\u001b[37m\u001b[0m \u001b[1m1s\u001b[0m 3ms/step - loss: 0.1399 - val_loss: 0.1475\n",
      "Epoch 55/200\n",
      "\u001b[1m181/181\u001b[0m \u001b[32m━━━━━━━━━━━━━━━━━━━━\u001b[0m\u001b[37m\u001b[0m \u001b[1m1s\u001b[0m 3ms/step - loss: 0.1397 - val_loss: 0.1692\n",
      "Epoch 56/200\n",
      "\u001b[1m181/181\u001b[0m \u001b[32m━━━━━━━━━━━━━━━━━━━━\u001b[0m\u001b[37m\u001b[0m \u001b[1m1s\u001b[0m 3ms/step - loss: 0.1383 - val_loss: 0.1435\n",
      "Epoch 57/200\n",
      "\u001b[1m181/181\u001b[0m \u001b[32m━━━━━━━━━━━━━━━━━━━━\u001b[0m\u001b[37m\u001b[0m \u001b[1m1s\u001b[0m 3ms/step - loss: 0.1419 - val_loss: 0.1590\n",
      "Epoch 58/200\n",
      "\u001b[1m181/181\u001b[0m \u001b[32m━━━━━━━━━━━━━━━━━━━━\u001b[0m\u001b[37m\u001b[0m \u001b[1m1s\u001b[0m 3ms/step - loss: 0.1400 - val_loss: 0.1455\n",
      "Epoch 59/200\n",
      "\u001b[1m181/181\u001b[0m \u001b[32m━━━━━━━━━━━━━━━━━━━━\u001b[0m\u001b[37m\u001b[0m \u001b[1m1s\u001b[0m 3ms/step - loss: 0.1479 - val_loss: 0.1364\n",
      "Epoch 60/200\n",
      "\u001b[1m181/181\u001b[0m \u001b[32m━━━━━━━━━━━━━━━━━━━━\u001b[0m\u001b[37m\u001b[0m \u001b[1m1s\u001b[0m 3ms/step - loss: 0.1387 - val_loss: 0.1550\n",
      "Epoch 61/200\n",
      "\u001b[1m181/181\u001b[0m \u001b[32m━━━━━━━━━━━━━━━━━━━━\u001b[0m\u001b[37m\u001b[0m \u001b[1m1s\u001b[0m 3ms/step - loss: 0.1401 - val_loss: 0.1399\n",
      "Epoch 62/200\n",
      "\u001b[1m181/181\u001b[0m \u001b[32m━━━━━━━━━━━━━━━━━━━━\u001b[0m\u001b[37m\u001b[0m \u001b[1m1s\u001b[0m 3ms/step - loss: 0.1386 - val_loss: 0.1445\n",
      "Epoch 63/200\n",
      "\u001b[1m181/181\u001b[0m \u001b[32m━━━━━━━━━━━━━━━━━━━━\u001b[0m\u001b[37m\u001b[0m \u001b[1m1s\u001b[0m 3ms/step - loss: 0.1391 - val_loss: 0.1352\n",
      "Epoch 64/200\n",
      "\u001b[1m181/181\u001b[0m \u001b[32m━━━━━━━━━━━━━━━━━━━━\u001b[0m\u001b[37m\u001b[0m \u001b[1m1s\u001b[0m 3ms/step - loss: 0.1430 - val_loss: 0.1443\n",
      "Epoch 65/200\n",
      "\u001b[1m181/181\u001b[0m \u001b[32m━━━━━━━━━━━━━━━━━━━━\u001b[0m\u001b[37m\u001b[0m \u001b[1m0s\u001b[0m 2ms/step - loss: 0.1358 - val_loss: 0.1385\n",
      "Epoch 66/200\n",
      "\u001b[1m181/181\u001b[0m \u001b[32m━━━━━━━━━━━━━━━━━━━━\u001b[0m\u001b[37m\u001b[0m \u001b[1m1s\u001b[0m 3ms/step - loss: 0.1384 - val_loss: 0.1414\n"
     ]
    }
   ],
   "source": [
    "# Train the model\n",
    "checkpoint_filepath = './tmp/checkpoint_toy_coupled_pairs.weights.h5'\n",
    "model_filepath = './tmp/checkpoint_toy_coupled_pairs.keras'\n",
    "model.train(X_train, y_train, checkpoint_path=checkpoint_filepath, model_path=model_filepath)"
   ]
  },
  {
   "cell_type": "code",
   "execution_count": 70,
   "id": "bfbbddcb",
   "metadata": {},
   "outputs": [],
   "source": [
    "# Save training history\n",
    "history_filepath = './tmp/checkpoint_toy_coupled_pairs.pkl'\n",
    "model.save_history(history_filepath)"
   ]
  },
  {
   "cell_type": "markdown",
   "id": "0cc3ac2c",
   "metadata": {},
   "source": [
    "### Otherwise, load trained model"
   ]
  },
  {
   "cell_type": "code",
   "execution_count": 71,
   "id": "06603c6c",
   "metadata": {},
   "outputs": [],
   "source": [
    "# Reload model and history\n",
    "history_filepath = './tmp/checkpoint_toy_coupled_pairs.pkl'\n",
    "history = model.load_history(history_filepath)\n",
    "\n",
    "model_filepath = './tmp/checkpoint_toy_coupled_pairs.keras'\n",
    "model.load_model(model_filepath)"
   ]
  },
  {
   "cell_type": "markdown",
   "id": "c759a2fc",
   "metadata": {},
   "source": [
    "### Model metrics"
   ]
  },
  {
   "cell_type": "code",
   "execution_count": 72,
   "id": "8819b5fe",
   "metadata": {},
   "outputs": [
    {
     "name": "stdout",
     "output_type": "stream",
     "text": [
      "\u001b[1m38/38\u001b[0m \u001b[32m━━━━━━━━━━━━━━━━━━━━\u001b[0m\u001b[37m\u001b[0m \u001b[1m0s\u001b[0m 4ms/step\n",
      "R² = 0.997\n",
      "MAE = 0.137\n",
      "RMSE = 0.172\n"
     ]
    }
   ],
   "source": [
    "# Evaluate on test set\n",
    "r2, mae, rmse = model.evaluate(X_test, y_test)\n",
    "\n",
    "print(f\"R² = {r2:.3f}\")\n",
    "print(f\"MAE = {mae:.3f}\")\n",
    "print(f\"RMSE = {rmse:.3f}\")"
   ]
  },
  {
   "cell_type": "code",
   "execution_count": 73,
   "id": "ed7dd88e",
   "metadata": {},
   "outputs": [
    {
     "name": "stdout",
     "output_type": "stream",
     "text": [
      "\u001b[1m38/38\u001b[0m \u001b[32m━━━━━━━━━━━━━━━━━━━━\u001b[0m\u001b[37m\u001b[0m \u001b[1m0s\u001b[0m 2ms/step\n"
     ]
    },
    {
     "data": {
      "image/png": "[encoded data removed]",
      "text/plain": [
       "<Figure size 1050x450 with 2 Axes>"
      ]
     },
     "metadata": {},
     "output_type": "display_data"
    }
   ],
   "source": [
    "delta = max(y_test) - min(y_test)\n",
    "fig, (ax1, ax2) = plt.subplots(1, 2, figsize=(7, 3), dpi=150)\n",
    "test_predictions = model.predict(X_test)\n",
    "\n",
    "# Scatter predicted vs true\n",
    "ax1.scatter(y_test, test_predictions, alpha=0.4)\n",
    "p1 = max(max(test_predictions), max(y_test))\n",
    "p2 = min(min(test_predictions), min(y_test))\n",
    "ax1.plot([p1, p2], [p1, p2], \"C1\")\n",
    "ax1.annotate(f\"$R^2$ = {r2:.3f}\", xy=(0.02 * delta, 0.95 * delta))\n",
    "ax1.annotate(f\"MAE = {mae:.2f}\", xy=(0.02 * delta, 0.85 * delta))\n",
    "ax1.annotate(f\"RMSE = {rmse:.2f}\", xy=(0.02 * delta, 0.75 * delta))\n",
    "ax1.set_xlabel(\"True f\")\n",
    "ax1.set_ylabel(\"Predicted f\")\n",
    "ax1.set_title(\"Predicted vs True\")\n",
    "\n",
    "# Loss curves\n",
    "ax2.plot(history['loss'], label='loss')\n",
    "ax2.plot(history['val_loss'], label='val_loss')\n",
    "ax2.set_yscale('log')\n",
    "ax2.set_xlabel('Epoch')\n",
    "ax2.set_ylabel('MAE')\n",
    "ax2.legend(frameon=False)\n",
    "ax2.set_title(\"Loss curves\")\n",
    "\n",
    "plt.tight_layout()\n",
    "plt.show()"
   ]
  },
  {
   "cell_type": "markdown",
   "id": "c127a38f",
   "metadata": {},
   "source": [
    "## Invariance detection\n",
    "This section performs feature grouping analysis using combinations of two features.\n",
    "\n",
    "The analysis aims to detect invariant groups of features in the form $x_i^{\\alpha_1} x_j^{\\alpha_2}$."
   ]
  },
  {
   "cell_type": "code",
   "execution_count": 74,
   "id": "6db2323e",
   "metadata": {},
   "outputs": [],
   "source": [
    "# Load the pre-trained model\n",
    "model = InvarianceModel(input_dim=5)\n",
    "model_filepath = './tmp/checkpoint_toy_coupled_pairs.keras'\n",
    "model.load_model(model_filepath)"
   ]
  },
  {
   "cell_type": "code",
   "execution_count": 75,
   "id": "ef0a4aa0",
   "metadata": {},
   "outputs": [
    {
     "data": {
      "text/plain": [
       "['x', 'y', 'z', 'w']"
      ]
     },
     "execution_count": 75,
     "metadata": {},
     "output_type": "execute_result"
    }
   ],
   "source": [
    "# List of features\n",
    "feature_names = dataset.feature_names\n",
    "feature_names"
   ]
  },
  {
   "cell_type": "code",
   "execution_count": 76,
   "id": "4c8905f0",
   "metadata": {},
   "outputs": [],
   "source": [
    "detector = InvarianceDetector()"
   ]
  },
  {
   "cell_type": "code",
   "execution_count": 77,
   "id": "03daef18",
   "metadata": {},
   "outputs": [
    {
     "name": "stderr",
     "output_type": "stream",
     "text": [
      "100%|██████████| 12/12 [01:40<00:00,  8.35s/it]\n"
     ]
    }
   ],
   "source": [
    "res = detector.find_invariant_coupled_pairs(dataset, model, [0.5, -0.5, 0.5, -0.5], mode='product')"
   ]
  },
  {
   "cell_type": "code",
   "execution_count": 78,
   "id": "8d0eb958",
   "metadata": {},
   "outputs": [
    {
     "name": "stdout",
     "output_type": "stream",
     "text": [
      "        coupled_pair    mean_a     std_a    mean_b     std_b    mean_c  \\\n",
      "0   ((x, y), (x, z))  0.351314  0.013725 -0.613458  0.007715  0.697743   \n",
      "1   ((x, y), (x, w))  0.196658  0.024393 -0.678739  0.006618  0.662102   \n",
      "2   ((x, y), (y, z))  0.653678  0.019636 -0.265031  0.045579  0.678134   \n",
      "3   ((x, y), (y, w))  0.595180  0.024286 -0.379594  0.032852  0.675763   \n",
      "4   ((x, z), (x, w))  0.699798  0.008099  0.083278  0.057294  0.463354   \n",
      "5   [(x, z), (z, y)]  0.686637  0.016563  0.157258  0.059378  0.064902   \n",
      "6   ((x, z), (z, w))  0.683031  0.021127  0.164243  0.077760  0.297959   \n",
      "7   [(x, w), (w, y)]  0.680945  0.056846  0.101290  0.151072 -0.203466   \n",
      "8   [(x, w), (w, z)]  0.693699  0.011854 -0.097800  0.095271  0.677641   \n",
      "9   ((y, z), (y, w))  0.698311  0.011262  0.087740  0.067353  0.402047   \n",
      "10  ((y, z), (z, w))  0.679543  0.023820  0.173066  0.087760  0.109407   \n",
      "11  [(y, w), (w, z)]  0.690368  0.025637 -0.092063  0.119413  0.681233   \n",
      "\n",
      "       std_c    mean_d     std_d  \n",
      "0   0.021406  0.038293  0.105973  \n",
      "1   0.055041  0.203014  0.131821  \n",
      "2   0.043107  0.140301  0.136351  \n",
      "3   0.045566  0.165537  0.117751  \n",
      "4   0.013566 -0.533855  0.010845  \n",
      "5   0.033877 -0.703301  0.002725  \n",
      "6   0.026722 -0.640602  0.011664  \n",
      "7   0.080658 -0.671722  0.029754  \n",
      "8   0.026188  0.152758  0.129546  \n",
      "9   0.013086 -0.581472  0.008768  \n",
      "10  0.049218 -0.696834  0.005510  \n",
      "11  0.022106  0.141480  0.124161  \n"
     ]
    }
   ],
   "source": [
    "print(res)"
   ]
  }
 ],
 "metadata": {
  "kernelspec": {
   "display_name": "good_vars_env",
   "language": "python",
   "name": "python3"
  },
  "language_info": {
   "codemirror_mode": {
    "name": "ipython",
    "version": 3
   },
   "file_extension": ".py",
   "mimetype": "text/x-python",
   "name": "python",
   "nbconvert_exporter": "python",
   "pygments_lexer": "ipython3",
   "version": "3.10.15"
  }
 },
 "nbformat": 4,
 "nbformat_minor": 5
}
